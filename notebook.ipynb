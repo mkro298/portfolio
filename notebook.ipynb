{
 "cells": [
  {
   "cell_type": "code",
   "execution_count": 22,
   "metadata": {},
   "outputs": [],
   "source": [
    "import pandas as pd\n",
    "import numpy as np\n",
    "from sklearn.preprocessing import OneHotEncoder, StandardScaler"
   ]
  },
  {
   "cell_type": "markdown",
   "metadata": {},
   "source": [
    "cleaning + preprocessing data "
   ]
  },
  {
   "cell_type": "code",
   "execution_count": 23,
   "metadata": {},
   "outputs": [
    {
     "name": "stderr",
     "output_type": "stream",
     "text": [
      "/var/folders/v6/lhv05hmx5v94886x_jxd39s00000gn/T/ipykernel_20597/1353134829.py:1: DtypeWarning: Columns (9,49,57) have mixed types. Specify dtype option on import or set low_memory=False.\n",
      "  stocks_df = pd.read_csv('stocks.csv')\n"
     ]
    }
   ],
   "source": [
    "stocks_df = pd.read_csv('stocks.csv')"
   ]
  },
  {
   "cell_type": "code",
   "execution_count": 24,
   "metadata": {},
   "outputs": [],
   "source": [
    "stocks_df = stocks_df.drop(columns=['PERMCO', 'COMNAM', 'HEXCD', 'ISSUNO', 'TRDSTAT', 'SECSTAT', 'DISTCD'], axis=1)"
   ]
  },
  {
   "cell_type": "code",
   "execution_count": 25,
   "metadata": {},
   "outputs": [],
   "source": [
    "missing_percentage = stocks_df.isnull().sum() * 100 / len(stocks_df)\n",
    "columns_to_drop = missing_percentage[missing_percentage > 90].keys()\n",
    "stocks_df = stocks_df.drop(columns=columns_to_drop, axis=1)"
   ]
  },
  {
   "cell_type": "code",
   "execution_count": 26,
   "metadata": {},
   "outputs": [],
   "source": [
    "to_encode = stocks_df.select_dtypes(include=['object']).columns\n",
    "not_encode = stocks_df.select_dtypes(exclude=['object']).columns"
   ]
  },
  {
   "cell_type": "code",
   "execution_count": 27,
   "metadata": {},
   "outputs": [],
   "source": [
    "stocks_df = stocks_df.sort_values(by='date')"
   ]
  },
  {
   "cell_type": "code",
   "execution_count": 28,
   "metadata": {},
   "outputs": [],
   "source": [
    "X = stocks_df[['PERMNO', 'date', 'SHRCD', 'EXCHCD', 'SICCD', 'NCUSIP', 'TICKER',\n",
    "       'SHRCLS', 'TSYMBOL', 'NAICS', 'PRIMEXCH', 'HSICCD', 'CUSIP', 'HSICMG',\n",
    "       'HSICIG', 'BIDLO', 'ASKHI', 'VOL', 'RET', 'BID', 'ASK', 'SHROUT',\n",
    "       'CFACPR', 'CFACSHR', 'OPENPRC', 'NUMTRD', 'RETX', 'vwretd', 'vwretx',\n",
    "       'ewretd', 'ewretx', 'sprtrn']]\n",
    "\n",
    "y = stocks_df[['PRC']]"
   ]
  },
  {
   "cell_type": "code",
   "execution_count": 32,
   "metadata": {},
   "outputs": [],
   "source": [
    "index = int(len(stocks_df) * 0.8)\n",
    "X_train = X.iloc[:index]\n",
    "y_train = y.iloc[:index]\n",
    "X_test = X.iloc[index:]\n",
    "y_test = y.iloc[index:]"
   ]
  },
  {
   "cell_type": "markdown",
   "metadata": {},
   "source": [
    "CNN-LSTM hybrid model for stock price prediction"
   ]
  },
  {
   "cell_type": "code",
   "execution_count": null,
   "metadata": {},
   "outputs": [],
   "source": []
  }
 ],
 "metadata": {
  "kernelspec": {
   "display_name": ".conda",
   "language": "python",
   "name": "python3"
  },
  "language_info": {
   "codemirror_mode": {
    "name": "ipython",
    "version": 3
   },
   "file_extension": ".py",
   "mimetype": "text/x-python",
   "name": "python",
   "nbconvert_exporter": "python",
   "pygments_lexer": "ipython3",
   "version": "3.11.9"
  }
 },
 "nbformat": 4,
 "nbformat_minor": 2
}
