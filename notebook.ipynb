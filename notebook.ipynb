{
 "cells": [
  {
   "cell_type": "code",
   "execution_count": null,
   "metadata": {},
   "outputs": [],
   "source": [
    "!pip install tensorflow"
   ]
  },
  {
   "cell_type": "code",
   "execution_count": 257,
   "metadata": {},
   "outputs": [],
   "source": [
    "import pandas as pd\n",
    "import numpy as np\n",
    "from sklearn.preprocessing import OneHotEncoder, StandardScaler\n",
    "from sklearn.preprocessing import StandardScaler\n",
    "import tensorflow as tf\n",
    "from tensorflow.keras import datasets, layers, models\n",
    "from tensorflow.keras.models import Sequential\n",
    "from tensorflow.keras.layers import Conv1D, MaxPooling1D, LSTM, Dense\n",
    "from tensorflow.keras.optimizers import Adam\n",
    "from sklearn.metrics import mean_absolute_error, mean_squared_error, r2_score"
   ]
  },
  {
   "cell_type": "markdown",
   "metadata": {},
   "source": [
    "cleaning + preprocessing data "
   ]
  },
  {
   "cell_type": "code",
   "execution_count": 279,
   "metadata": {},
   "outputs": [
    {
     "name": "stderr",
     "output_type": "stream",
     "text": [
      "/var/folders/v6/lhv05hmx5v94886x_jxd39s00000gn/T/ipykernel_20597/1353134829.py:1: DtypeWarning: Columns (9,49,57) have mixed types. Specify dtype option on import or set low_memory=False.\n",
      "  stocks_df = pd.read_csv('stocks.csv')\n"
     ]
    }
   ],
   "source": [
    "stocks_df = pd.read_csv('stocks.csv')"
   ]
  },
  {
   "cell_type": "code",
   "execution_count": 280,
   "metadata": {},
   "outputs": [],
   "source": [
    "stocks_df = stocks_df.drop(columns=['PERMCO', 'COMNAM', 'HEXCD', 'ISSUNO', 'TRDSTAT', 'SECSTAT', 'DISTCD'], axis=1)"
   ]
  },
  {
   "cell_type": "code",
   "execution_count": 281,
   "metadata": {},
   "outputs": [],
   "source": [
    "missing_percentage = stocks_df.isnull().sum() * 100 / len(stocks_df)\n",
    "columns_to_drop = missing_percentage[missing_percentage > 90].keys()\n",
    "stocks_df = stocks_df.drop(columns=columns_to_drop, axis=1)\n",
    "stocks_df = stocks_df.dropna()"
   ]
  },
  {
   "cell_type": "code",
   "execution_count": 282,
   "metadata": {},
   "outputs": [],
   "source": [
    "to_encode = stocks_df.select_dtypes(include=['object']).columns\n",
    "not_encode = stocks_df.select_dtypes(exclude=['object']).columns\n",
    "not_encode = not_encode.drop(labels=['PRC'])"
   ]
  },
  {
   "cell_type": "code",
   "execution_count": 318,
   "metadata": {},
   "outputs": [
    {
     "data": {
      "text/plain": [
       "Index(['PERMNO', 'date', 'SHRCD', 'EXCHCD', 'SICCD', 'NCUSIP', 'TICKER',\n",
       "       'SHRCLS', 'TSYMBOL', 'NAICS', 'PRIMEXCH', 'HSICCD', 'CUSIP', 'HSICMG',\n",
       "       'HSICIG', 'BIDLO', 'ASKHI', 'PRC', 'VOL', 'RET', 'BID', 'ASK', 'SHROUT',\n",
       "       'CFACPR', 'CFACSHR', 'OPENPRC', 'NUMTRD', 'RETX', 'vwretd', 'vwretx',\n",
       "       'ewretd', 'ewretx', 'sprtrn'],\n",
       "      dtype='object')"
      ]
     },
     "execution_count": 318,
     "metadata": {},
     "output_type": "execute_result"
    }
   ],
   "source": [
    "stocks_df.columns"
   ]
  },
  {
   "cell_type": "code",
   "execution_count": null,
   "metadata": {},
   "outputs": [],
   "source": [
    "def create_sequences(data, seq_length):\n",
    "    sequences = []\n",
    "    targets = []\n",
    "    \n",
    "    for i in range(len(data) - seq_length):\n",
    "        sequence = data[i:(i + seq_length)]\n",
    "        target = data[i + seq_length][3]  \n",
    "        sequences.append(sequence)\n",
    "        targets.append(target)\n",
    "    \n",
    "    return np.array(sequences), np.array(targets)"
   ]
  },
  {
   "cell_type": "code",
   "execution_count": 283,
   "metadata": {},
   "outputs": [],
   "source": [
    "X = stocks_df[['PERMNO', 'date', 'SHRCD', 'NCUSIP', 'EXCHCD', 'SICCD', 'TICKER',\n",
    "       'SHRCLS', 'TSYMBOL', 'NAICS', 'PRIMEXCH', 'HSICCD', 'CUSIP', 'HSICMG',\n",
    "       'HSICIG', 'BIDLO', 'ASKHI', 'VOL', 'RET', 'BID', 'ASK', 'SHROUT',\n",
    "       'CFACPR', 'CFACSHR', 'OPENPRC', 'NUMTRD', 'RETX', 'vwretd', 'vwretx',\n",
    "       'ewretd', 'ewretx', 'sprtrn']]\n",
    "\n",
    "y = stocks_df[['PRC', 'date']]"
   ]
  },
  {
   "cell_type": "code",
   "execution_count": 284,
   "metadata": {},
   "outputs": [],
   "source": [
    "stocks_df['date'] = pd.to_datetime(stocks_df['date'])\n",
    "\n",
    "train_start = '2019-01-02'\n",
    "train_end = '2022-12-30'\n",
    "test_start = '2023-01-03'\n",
    "test_end = '2023-12-29'"
   ]
  },
  {
   "cell_type": "code",
   "execution_count": 285,
   "metadata": {},
   "outputs": [],
   "source": [
    "X_train = X[(X['date'] >= train_start) & (X['date'] <= train_end)]\n",
    "y_train = y[(y['date'] >= train_start) & (y['date'] <= train_end)]\n",
    "X_test = X[(X['date'] >= test_start) & (X['date'] <= test_end)]\n",
    "y_test = y[(y['date'] >= test_start) & (y['date'] <= test_end)]"
   ]
  },
  {
   "cell_type": "code",
   "execution_count": 286,
   "metadata": {},
   "outputs": [
    {
     "name": "stderr",
     "output_type": "stream",
     "text": [
      "/var/folders/v6/lhv05hmx5v94886x_jxd39s00000gn/T/ipykernel_20597/2855478841.py:1: SettingWithCopyWarning: \n",
      "A value is trying to be set on a copy of a slice from a DataFrame.\n",
      "Try using .loc[row_indexer,col_indexer] = value instead\n",
      "\n",
      "See the caveats in the documentation: https://pandas.pydata.org/pandas-docs/stable/user_guide/indexing.html#returning-a-view-versus-a-copy\n",
      "  X_train['date'] = X_train['date'].apply(lambda x: x.replace('-', '')).astype(int)\n",
      "/var/folders/v6/lhv05hmx5v94886x_jxd39s00000gn/T/ipykernel_20597/2855478841.py:2: SettingWithCopyWarning: \n",
      "A value is trying to be set on a copy of a slice from a DataFrame.\n",
      "Try using .loc[row_indexer,col_indexer] = value instead\n",
      "\n",
      "See the caveats in the documentation: https://pandas.pydata.org/pandas-docs/stable/user_guide/indexing.html#returning-a-view-versus-a-copy\n",
      "  X_test['date'] = X_test['date'].apply(lambda x: x.replace('-', '')).astype(int)\n",
      "/var/folders/v6/lhv05hmx5v94886x_jxd39s00000gn/T/ipykernel_20597/2855478841.py:4: SettingWithCopyWarning: \n",
      "A value is trying to be set on a copy of a slice from a DataFrame.\n",
      "Try using .loc[row_indexer,col_indexer] = value instead\n",
      "\n",
      "See the caveats in the documentation: https://pandas.pydata.org/pandas-docs/stable/user_guide/indexing.html#returning-a-view-versus-a-copy\n",
      "  y_train['date'] = y_train['date'].apply(lambda x: x.replace('-', '')).astype(int)\n",
      "/var/folders/v6/lhv05hmx5v94886x_jxd39s00000gn/T/ipykernel_20597/2855478841.py:5: SettingWithCopyWarning: \n",
      "A value is trying to be set on a copy of a slice from a DataFrame.\n",
      "Try using .loc[row_indexer,col_indexer] = value instead\n",
      "\n",
      "See the caveats in the documentation: https://pandas.pydata.org/pandas-docs/stable/user_guide/indexing.html#returning-a-view-versus-a-copy\n",
      "  y_test['date'] = y_test['date'].apply(lambda x: x.replace('-', '')).astype(int)\n"
     ]
    }
   ],
   "source": [
    "X_train['date'] = X_train['date'].apply(lambda x: x.replace('-', '')).astype(int) \n",
    "X_test['date'] = X_test['date'].apply(lambda x: x.replace('-', '')).astype(int) \n",
    "\n",
    "y_train['date'] = y_train['date'].apply(lambda x: x.replace('-', '')).astype(int) \n",
    "y_test['date'] = y_test['date'].apply(lambda x: x.replace('-', '')).astype(int) "
   ]
  },
  {
   "cell_type": "markdown",
   "metadata": {},
   "source": [
    "CNN-LSTM hybrid model for stock price prediction"
   ]
  },
  {
   "cell_type": "code",
   "execution_count": 290,
   "metadata": {},
   "outputs": [],
   "source": [
    "encoder = OneHotEncoder(handle_unknown='ignore')\n",
    "encoder.fit(X_train[to_encode])\n",
    "\n",
    "X_train_encoded = encoder.transform(X_train[to_encode])\n",
    "X_test_encoded = encoder.transform(X_test[to_encode])\n",
    "\n",
    "X_train_encoded_dense = X_train_encoded.toarray()\n",
    "X_test_encoded_dense = X_test_encoded.toarray()\n",
    "\n",
    "X_train_encoded_df = pd.DataFrame(X_train_encoded_dense, columns=encoder.get_feature_names_out(to_encode))\n",
    "X_test_encoded_df = pd.DataFrame(X_test_encoded_dense, columns=encoder.get_feature_names_out(to_encode))\n",
    "\n",
    "X_train_encoded_full = pd.concat([X_train_encoded_df, X_train[not_encode].reset_index(drop=True)], axis=1)\n",
    "X_test_encoded_full = pd.concat([X_test_encoded_df, X_test[not_encode].reset_index(drop=True)], axis=1)\n"
   ]
  },
  {
   "cell_type": "code",
   "execution_count": 291,
   "metadata": {},
   "outputs": [],
   "source": [
    "scaler = StandardScaler()\n",
    "\n",
    "X_train_scaled = X_train_encoded_full.copy(deep = True)\n",
    "X_test_scaled = X_test_encoded_full.copy(deep = True)\n",
    "\n",
    "scaler.fit(X_train_scaled[not_encode])\n",
    "\n",
    "X_train_scaled[not_encode] = scaler.transform(X_train_scaled[not_encode])\n",
    "X_test_scaled[not_encode] = scaler.transform(X_test_scaled[not_encode])"
   ]
  },
  {
   "cell_type": "markdown",
   "metadata": {},
   "source": [
    "input layer \n",
    "one-dimensional convolution layer \n",
    "pooling layer \n",
    "LSTM hidden layer \n",
    "full connection layer "
   ]
  },
  {
   "cell_type": "code",
   "execution_count": 292,
   "metadata": {},
   "outputs": [],
   "source": [
    "X_train_reshaped = X_train_encoded_full.values.reshape(X_train_encoded_full.shape[0], 1, X_train_encoded_full.shape[1])"
   ]
  },
  {
   "cell_type": "code",
   "execution_count": 312,
   "metadata": {},
   "outputs": [
    {
     "name": "stderr",
     "output_type": "stream",
     "text": [
      "/Users/monishakrothapalli/Documents/GitHub/playlistGen/.conda/lib/python3.11/site-packages/keras/src/layers/convolutional/base_conv.py:107: UserWarning: Do not pass an `input_shape`/`input_dim` argument to a layer. When using Sequential models, prefer using an `Input(shape)` object as the first layer in the model instead.\n",
      "  super().__init__(activity_regularizer=activity_regularizer, **kwargs)\n"
     ]
    }
   ],
   "source": [
    "model = models.Sequential()\n",
    "model.add(layers.Conv1D(filters=64, kernel_size=3, padding='same', activation='tanh', input_shape=(X_train_reshaped.shape[1], X_train_reshaped.shape[2])))\n",
    "model.add(layers.MaxPooling1D(pool_size=2, padding='same'))\n",
    "model.add(LSTM(units=100, activation='tanh'))\n",
    "model.add(Dense(units=1))"
   ]
  },
  {
   "cell_type": "code",
   "execution_count": 313,
   "metadata": {},
   "outputs": [],
   "source": [
    "optimizer = Adam(learning_rate=0.001)\n",
    "model.compile(optimizer, loss='mean_absolute_error', metrics=['mean_absolute_error'])"
   ]
  },
  {
   "cell_type": "code",
   "execution_count": 314,
   "metadata": {},
   "outputs": [
    {
     "name": "stdout",
     "output_type": "stream",
     "text": [
      "Epoch 1/100\n",
      "\u001b[1m12/12\u001b[0m \u001b[32m━━━━━━━━━━━━━━━━━━━━\u001b[0m\u001b[37m\u001b[0m \u001b[1m1s\u001b[0m 16ms/step - loss: 10103756.0000 - mean_absolute_error: 10103756.0000 - val_loss: 10110594.0000 - val_mean_absolute_error: 10110594.0000\n",
      "Epoch 2/100\n",
      "\u001b[1m12/12\u001b[0m \u001b[32m━━━━━━━━━━━━━━━━━━━━\u001b[0m\u001b[37m\u001b[0m \u001b[1m0s\u001b[0m 6ms/step - loss: 10103790.0000 - mean_absolute_error: 10103790.0000 - val_loss: 10110590.0000 - val_mean_absolute_error: 10110590.0000\n",
      "Epoch 3/100\n",
      "\u001b[1m12/12\u001b[0m \u001b[32m━━━━━━━━━━━━━━━━━━━━\u001b[0m\u001b[37m\u001b[0m \u001b[1m0s\u001b[0m 6ms/step - loss: 10103971.0000 - mean_absolute_error: 10103971.0000 - val_loss: 10110589.0000 - val_mean_absolute_error: 10110589.0000\n",
      "Epoch 4/100\n",
      "\u001b[1m12/12\u001b[0m \u001b[32m━━━━━━━━━━━━━━━━━━━━\u001b[0m\u001b[37m\u001b[0m \u001b[1m0s\u001b[0m 6ms/step - loss: 10103890.0000 - mean_absolute_error: 10103890.0000 - val_loss: 10110586.0000 - val_mean_absolute_error: 10110586.0000\n",
      "Epoch 5/100\n",
      "\u001b[1m12/12\u001b[0m \u001b[32m━━━━━━━━━━━━━━━━━━━━\u001b[0m\u001b[37m\u001b[0m \u001b[1m0s\u001b[0m 6ms/step - loss: 10104091.0000 - mean_absolute_error: 10104091.0000 - val_loss: 10110584.0000 - val_mean_absolute_error: 10110584.0000\n",
      "Epoch 6/100\n",
      "\u001b[1m12/12\u001b[0m \u001b[32m━━━━━━━━━━━━━━━━━━━━\u001b[0m\u001b[37m\u001b[0m \u001b[1m0s\u001b[0m 7ms/step - loss: 10104055.0000 - mean_absolute_error: 10104055.0000 - val_loss: 10110582.0000 - val_mean_absolute_error: 10110582.0000\n",
      "Epoch 7/100\n",
      "\u001b[1m12/12\u001b[0m \u001b[32m━━━━━━━━━━━━━━━━━━━━\u001b[0m\u001b[37m\u001b[0m \u001b[1m0s\u001b[0m 7ms/step - loss: 10103968.0000 - mean_absolute_error: 10103968.0000 - val_loss: 10110581.0000 - val_mean_absolute_error: 10110581.0000\n",
      "Epoch 8/100\n",
      "\u001b[1m12/12\u001b[0m \u001b[32m━━━━━━━━━━━━━━━━━━━━\u001b[0m\u001b[37m\u001b[0m \u001b[1m0s\u001b[0m 6ms/step - loss: 10103669.0000 - mean_absolute_error: 10103669.0000 - val_loss: 10110579.0000 - val_mean_absolute_error: 10110579.0000\n",
      "Epoch 9/100\n",
      "\u001b[1m12/12\u001b[0m \u001b[32m━━━━━━━━━━━━━━━━━━━━\u001b[0m\u001b[37m\u001b[0m \u001b[1m0s\u001b[0m 6ms/step - loss: 10104086.0000 - mean_absolute_error: 10104086.0000 - val_loss: 10110578.0000 - val_mean_absolute_error: 10110578.0000\n",
      "Epoch 10/100\n",
      "\u001b[1m12/12\u001b[0m \u001b[32m━━━━━━━━━━━━━━━━━━━━\u001b[0m\u001b[37m\u001b[0m \u001b[1m0s\u001b[0m 6ms/step - loss: 10103881.0000 - mean_absolute_error: 10103881.0000 - val_loss: 10110577.0000 - val_mean_absolute_error: 10110577.0000\n",
      "Epoch 11/100\n",
      "\u001b[1m12/12\u001b[0m \u001b[32m━━━━━━━━━━━━━━━━━━━━\u001b[0m\u001b[37m\u001b[0m \u001b[1m0s\u001b[0m 6ms/step - loss: 10103821.0000 - mean_absolute_error: 10103821.0000 - val_loss: 10110577.0000 - val_mean_absolute_error: 10110577.0000\n",
      "Epoch 12/100\n",
      "\u001b[1m12/12\u001b[0m \u001b[32m━━━━━━━━━━━━━━━━━━━━\u001b[0m\u001b[37m\u001b[0m \u001b[1m0s\u001b[0m 7ms/step - loss: 10103605.0000 - mean_absolute_error: 10103605.0000 - val_loss: 10110574.0000 - val_mean_absolute_error: 10110574.0000\n",
      "Epoch 13/100\n",
      "\u001b[1m12/12\u001b[0m \u001b[32m━━━━━━━━━━━━━━━━━━━━\u001b[0m\u001b[37m\u001b[0m \u001b[1m0s\u001b[0m 8ms/step - loss: 10103855.0000 - mean_absolute_error: 10103855.0000 - val_loss: 10110573.0000 - val_mean_absolute_error: 10110573.0000\n",
      "Epoch 14/100\n",
      "\u001b[1m12/12\u001b[0m \u001b[32m━━━━━━━━━━━━━━━━━━━━\u001b[0m\u001b[37m\u001b[0m \u001b[1m0s\u001b[0m 7ms/step - loss: 10103989.0000 - mean_absolute_error: 10103989.0000 - val_loss: 10110573.0000 - val_mean_absolute_error: 10110573.0000\n",
      "Epoch 15/100\n",
      "\u001b[1m12/12\u001b[0m \u001b[32m━━━━━━━━━━━━━━━━━━━━\u001b[0m\u001b[37m\u001b[0m \u001b[1m0s\u001b[0m 6ms/step - loss: 10103927.0000 - mean_absolute_error: 10103927.0000 - val_loss: 10110571.0000 - val_mean_absolute_error: 10110571.0000\n",
      "Epoch 16/100\n",
      "\u001b[1m12/12\u001b[0m \u001b[32m━━━━━━━━━━━━━━━━━━━━\u001b[0m\u001b[37m\u001b[0m \u001b[1m0s\u001b[0m 6ms/step - loss: 10104038.0000 - mean_absolute_error: 10104038.0000 - val_loss: 10110570.0000 - val_mean_absolute_error: 10110570.0000\n",
      "Epoch 17/100\n",
      "\u001b[1m12/12\u001b[0m \u001b[32m━━━━━━━━━━━━━━━━━━━━\u001b[0m\u001b[37m\u001b[0m \u001b[1m0s\u001b[0m 6ms/step - loss: 10104056.0000 - mean_absolute_error: 10104056.0000 - val_loss: 10110569.0000 - val_mean_absolute_error: 10110569.0000\n",
      "Epoch 18/100\n",
      "\u001b[1m12/12\u001b[0m \u001b[32m━━━━━━━━━━━━━━━━━━━━\u001b[0m\u001b[37m\u001b[0m \u001b[1m0s\u001b[0m 6ms/step - loss: 10103975.0000 - mean_absolute_error: 10103975.0000 - val_loss: 10110569.0000 - val_mean_absolute_error: 10110569.0000\n",
      "Epoch 19/100\n",
      "\u001b[1m12/12\u001b[0m \u001b[32m━━━━━━━━━━━━━━━━━━━━\u001b[0m\u001b[37m\u001b[0m \u001b[1m0s\u001b[0m 7ms/step - loss: 10103894.0000 - mean_absolute_error: 10103894.0000 - val_loss: 10110567.0000 - val_mean_absolute_error: 10110567.0000\n",
      "Epoch 20/100\n",
      "\u001b[1m12/12\u001b[0m \u001b[32m━━━━━━━━━━━━━━━━━━━━\u001b[0m\u001b[37m\u001b[0m \u001b[1m0s\u001b[0m 6ms/step - loss: 10103742.0000 - mean_absolute_error: 10103742.0000 - val_loss: 10110566.0000 - val_mean_absolute_error: 10110566.0000\n",
      "Epoch 21/100\n",
      "\u001b[1m12/12\u001b[0m \u001b[32m━━━━━━━━━━━━━━━━━━━━\u001b[0m\u001b[37m\u001b[0m \u001b[1m0s\u001b[0m 7ms/step - loss: 10104090.0000 - mean_absolute_error: 10104090.0000 - val_loss: 10110565.0000 - val_mean_absolute_error: 10110565.0000\n",
      "Epoch 22/100\n",
      "\u001b[1m12/12\u001b[0m \u001b[32m━━━━━━━━━━━━━━━━━━━━\u001b[0m\u001b[37m\u001b[0m \u001b[1m0s\u001b[0m 6ms/step - loss: 10103878.0000 - mean_absolute_error: 10103878.0000 - val_loss: 10110565.0000 - val_mean_absolute_error: 10110565.0000\n",
      "Epoch 23/100\n",
      "\u001b[1m12/12\u001b[0m \u001b[32m━━━━━━━━━━━━━━━━━━━━\u001b[0m\u001b[37m\u001b[0m \u001b[1m0s\u001b[0m 7ms/step - loss: 10103994.0000 - mean_absolute_error: 10103994.0000 - val_loss: 10110563.0000 - val_mean_absolute_error: 10110563.0000\n",
      "Epoch 24/100\n",
      "\u001b[1m12/12\u001b[0m \u001b[32m━━━━━━━━━━━━━━━━━━━━\u001b[0m\u001b[37m\u001b[0m \u001b[1m0s\u001b[0m 6ms/step - loss: 10103899.0000 - mean_absolute_error: 10103899.0000 - val_loss: 10110562.0000 - val_mean_absolute_error: 10110562.0000\n",
      "Epoch 25/100\n",
      "\u001b[1m12/12\u001b[0m \u001b[32m━━━━━━━━━━━━━━━━━━━━\u001b[0m\u001b[37m\u001b[0m \u001b[1m0s\u001b[0m 6ms/step - loss: 10103978.0000 - mean_absolute_error: 10103978.0000 - val_loss: 10110561.0000 - val_mean_absolute_error: 10110561.0000\n",
      "Epoch 26/100\n",
      "\u001b[1m12/12\u001b[0m \u001b[32m━━━━━━━━━━━━━━━━━━━━\u001b[0m\u001b[37m\u001b[0m \u001b[1m0s\u001b[0m 6ms/step - loss: 10103989.0000 - mean_absolute_error: 10103989.0000 - val_loss: 10110561.0000 - val_mean_absolute_error: 10110561.0000\n",
      "Epoch 27/100\n",
      "\u001b[1m12/12\u001b[0m \u001b[32m━━━━━━━━━━━━━━━━━━━━\u001b[0m\u001b[37m\u001b[0m \u001b[1m0s\u001b[0m 6ms/step - loss: 10103705.0000 - mean_absolute_error: 10103705.0000 - val_loss: 10110559.0000 - val_mean_absolute_error: 10110559.0000\n",
      "Epoch 28/100\n",
      "\u001b[1m12/12\u001b[0m \u001b[32m━━━━━━━━━━━━━━━━━━━━\u001b[0m\u001b[37m\u001b[0m \u001b[1m0s\u001b[0m 7ms/step - loss: 10103789.0000 - mean_absolute_error: 10103789.0000 - val_loss: 10110558.0000 - val_mean_absolute_error: 10110558.0000\n",
      "Epoch 29/100\n",
      "\u001b[1m12/12\u001b[0m \u001b[32m━━━━━━━━━━━━━━━━━━━━\u001b[0m\u001b[37m\u001b[0m \u001b[1m0s\u001b[0m 8ms/step - loss: 10103742.0000 - mean_absolute_error: 10103742.0000 - val_loss: 10110557.0000 - val_mean_absolute_error: 10110557.0000\n",
      "Epoch 30/100\n",
      "\u001b[1m12/12\u001b[0m \u001b[32m━━━━━━━━━━━━━━━━━━━━\u001b[0m\u001b[37m\u001b[0m \u001b[1m0s\u001b[0m 7ms/step - loss: 10103834.0000 - mean_absolute_error: 10103834.0000 - val_loss: 10110557.0000 - val_mean_absolute_error: 10110557.0000\n",
      "Epoch 31/100\n",
      "\u001b[1m12/12\u001b[0m \u001b[32m━━━━━━━━━━━━━━━━━━━━\u001b[0m\u001b[37m\u001b[0m \u001b[1m0s\u001b[0m 7ms/step - loss: 10103697.0000 - mean_absolute_error: 10103697.0000 - val_loss: 10110555.0000 - val_mean_absolute_error: 10110555.0000\n",
      "Epoch 32/100\n",
      "\u001b[1m12/12\u001b[0m \u001b[32m━━━━━━━━━━━━━━━━━━━━\u001b[0m\u001b[37m\u001b[0m \u001b[1m0s\u001b[0m 7ms/step - loss: 10103987.0000 - mean_absolute_error: 10103987.0000 - val_loss: 10110554.0000 - val_mean_absolute_error: 10110554.0000\n",
      "Epoch 33/100\n",
      "\u001b[1m12/12\u001b[0m \u001b[32m━━━━━━━━━━━━━━━━━━━━\u001b[0m\u001b[37m\u001b[0m \u001b[1m0s\u001b[0m 7ms/step - loss: 10103859.0000 - mean_absolute_error: 10103859.0000 - val_loss: 10110553.0000 - val_mean_absolute_error: 10110553.0000\n",
      "Epoch 34/100\n",
      "\u001b[1m12/12\u001b[0m \u001b[32m━━━━━━━━━━━━━━━━━━━━\u001b[0m\u001b[37m\u001b[0m \u001b[1m0s\u001b[0m 7ms/step - loss: 10103826.0000 - mean_absolute_error: 10103826.0000 - val_loss: 10110553.0000 - val_mean_absolute_error: 10110553.0000\n",
      "Epoch 35/100\n",
      "\u001b[1m12/12\u001b[0m \u001b[32m━━━━━━━━━━━━━━━━━━━━\u001b[0m\u001b[37m\u001b[0m \u001b[1m0s\u001b[0m 7ms/step - loss: 10103758.0000 - mean_absolute_error: 10103758.0000 - val_loss: 10110551.0000 - val_mean_absolute_error: 10110551.0000\n",
      "Epoch 36/100\n",
      "\u001b[1m12/12\u001b[0m \u001b[32m━━━━━━━━━━━━━━━━━━━━\u001b[0m\u001b[37m\u001b[0m \u001b[1m0s\u001b[0m 6ms/step - loss: 10103786.0000 - mean_absolute_error: 10103786.0000 - val_loss: 10110550.0000 - val_mean_absolute_error: 10110550.0000\n",
      "Epoch 37/100\n",
      "\u001b[1m12/12\u001b[0m \u001b[32m━━━━━━━━━━━━━━━━━━━━\u001b[0m\u001b[37m\u001b[0m \u001b[1m0s\u001b[0m 7ms/step - loss: 10103977.0000 - mean_absolute_error: 10103977.0000 - val_loss: 10110549.0000 - val_mean_absolute_error: 10110549.0000\n",
      "Epoch 38/100\n",
      "\u001b[1m12/12\u001b[0m \u001b[32m━━━━━━━━━━━━━━━━━━━━\u001b[0m\u001b[37m\u001b[0m \u001b[1m0s\u001b[0m 7ms/step - loss: 10103942.0000 - mean_absolute_error: 10103942.0000 - val_loss: 10110549.0000 - val_mean_absolute_error: 10110549.0000\n",
      "Epoch 39/100\n",
      "\u001b[1m12/12\u001b[0m \u001b[32m━━━━━━━━━━━━━━━━━━━━\u001b[0m\u001b[37m\u001b[0m \u001b[1m0s\u001b[0m 7ms/step - loss: 10103650.0000 - mean_absolute_error: 10103650.0000 - val_loss: 10110548.0000 - val_mean_absolute_error: 10110548.0000\n",
      "Epoch 40/100\n",
      "\u001b[1m12/12\u001b[0m \u001b[32m━━━━━━━━━━━━━━━━━━━━\u001b[0m\u001b[37m\u001b[0m \u001b[1m0s\u001b[0m 7ms/step - loss: 10103776.0000 - mean_absolute_error: 10103776.0000 - val_loss: 10110546.0000 - val_mean_absolute_error: 10110546.0000\n",
      "Epoch 41/100\n",
      "\u001b[1m12/12\u001b[0m \u001b[32m━━━━━━━━━━━━━━━━━━━━\u001b[0m\u001b[37m\u001b[0m \u001b[1m0s\u001b[0m 7ms/step - loss: 10104154.0000 - mean_absolute_error: 10104154.0000 - val_loss: 10110546.0000 - val_mean_absolute_error: 10110546.0000\n",
      "Epoch 42/100\n",
      "\u001b[1m12/12\u001b[0m \u001b[32m━━━━━━━━━━━━━━━━━━━━\u001b[0m\u001b[37m\u001b[0m \u001b[1m0s\u001b[0m 7ms/step - loss: 10103910.0000 - mean_absolute_error: 10103910.0000 - val_loss: 10110545.0000 - val_mean_absolute_error: 10110545.0000\n",
      "Epoch 43/100\n",
      "\u001b[1m12/12\u001b[0m \u001b[32m━━━━━━━━━━━━━━━━━━━━\u001b[0m\u001b[37m\u001b[0m \u001b[1m0s\u001b[0m 7ms/step - loss: 10103918.0000 - mean_absolute_error: 10103918.0000 - val_loss: 10110545.0000 - val_mean_absolute_error: 10110545.0000\n",
      "Epoch 44/100\n",
      "\u001b[1m12/12\u001b[0m \u001b[32m━━━━━━━━━━━━━━━━━━━━\u001b[0m\u001b[37m\u001b[0m \u001b[1m0s\u001b[0m 7ms/step - loss: 10103843.0000 - mean_absolute_error: 10103843.0000 - val_loss: 10110543.0000 - val_mean_absolute_error: 10110543.0000\n",
      "Epoch 45/100\n",
      "\u001b[1m12/12\u001b[0m \u001b[32m━━━━━━━━━━━━━━━━━━━━\u001b[0m\u001b[37m\u001b[0m \u001b[1m0s\u001b[0m 7ms/step - loss: 10103737.0000 - mean_absolute_error: 10103737.0000 - val_loss: 10110542.0000 - val_mean_absolute_error: 10110542.0000\n",
      "Epoch 46/100\n",
      "\u001b[1m12/12\u001b[0m \u001b[32m━━━━━━━━━━━━━━━━━━━━\u001b[0m\u001b[37m\u001b[0m \u001b[1m0s\u001b[0m 7ms/step - loss: 10103833.0000 - mean_absolute_error: 10103833.0000 - val_loss: 10110541.0000 - val_mean_absolute_error: 10110541.0000\n",
      "Epoch 47/100\n",
      "\u001b[1m12/12\u001b[0m \u001b[32m━━━━━━━━━━━━━━━━━━━━\u001b[0m\u001b[37m\u001b[0m \u001b[1m0s\u001b[0m 7ms/step - loss: 10103783.0000 - mean_absolute_error: 10103783.0000 - val_loss: 10110541.0000 - val_mean_absolute_error: 10110541.0000\n",
      "Epoch 48/100\n",
      "\u001b[1m12/12\u001b[0m \u001b[32m━━━━━━━━━━━━━━━━━━━━\u001b[0m\u001b[37m\u001b[0m \u001b[1m0s\u001b[0m 7ms/step - loss: 10103969.0000 - mean_absolute_error: 10103969.0000 - val_loss: 10110539.0000 - val_mean_absolute_error: 10110539.0000\n",
      "Epoch 49/100\n",
      "\u001b[1m12/12\u001b[0m \u001b[32m━━━━━━━━━━━━━━━━━━━━\u001b[0m\u001b[37m\u001b[0m \u001b[1m0s\u001b[0m 7ms/step - loss: 10103983.0000 - mean_absolute_error: 10103983.0000 - val_loss: 10110538.0000 - val_mean_absolute_error: 10110538.0000\n",
      "Epoch 50/100\n",
      "\u001b[1m12/12\u001b[0m \u001b[32m━━━━━━━━━━━━━━━━━━━━\u001b[0m\u001b[37m\u001b[0m \u001b[1m0s\u001b[0m 6ms/step - loss: 10103685.0000 - mean_absolute_error: 10103685.0000 - val_loss: 10110537.0000 - val_mean_absolute_error: 10110537.0000\n",
      "Epoch 51/100\n",
      "\u001b[1m12/12\u001b[0m \u001b[32m━━━━━━━━━━━━━━━━━━━━\u001b[0m\u001b[37m\u001b[0m \u001b[1m0s\u001b[0m 6ms/step - loss: 10103741.0000 - mean_absolute_error: 10103741.0000 - val_loss: 10110536.0000 - val_mean_absolute_error: 10110536.0000\n",
      "Epoch 52/100\n",
      "\u001b[1m12/12\u001b[0m \u001b[32m━━━━━━━━━━━━━━━━━━━━\u001b[0m\u001b[37m\u001b[0m \u001b[1m0s\u001b[0m 7ms/step - loss: 10103627.0000 - mean_absolute_error: 10103627.0000 - val_loss: 10110535.0000 - val_mean_absolute_error: 10110535.0000\n",
      "Epoch 53/100\n",
      "\u001b[1m12/12\u001b[0m \u001b[32m━━━━━━━━━━━━━━━━━━━━\u001b[0m\u001b[37m\u001b[0m \u001b[1m0s\u001b[0m 9ms/step - loss: 10103751.0000 - mean_absolute_error: 10103751.0000 - val_loss: 10110534.0000 - val_mean_absolute_error: 10110534.0000\n",
      "Epoch 54/100\n",
      "\u001b[1m12/12\u001b[0m \u001b[32m━━━━━━━━━━━━━━━━━━━━\u001b[0m\u001b[37m\u001b[0m \u001b[1m0s\u001b[0m 7ms/step - loss: 10103902.0000 - mean_absolute_error: 10103902.0000 - val_loss: 10110533.0000 - val_mean_absolute_error: 10110533.0000\n",
      "Epoch 55/100\n",
      "\u001b[1m12/12\u001b[0m \u001b[32m━━━━━━━━━━━━━━━━━━━━\u001b[0m\u001b[37m\u001b[0m \u001b[1m0s\u001b[0m 7ms/step - loss: 10103741.0000 - mean_absolute_error: 10103741.0000 - val_loss: 10110533.0000 - val_mean_absolute_error: 10110533.0000\n",
      "Epoch 56/100\n",
      "\u001b[1m12/12\u001b[0m \u001b[32m━━━━━━━━━━━━━━━━━━━━\u001b[0m\u001b[37m\u001b[0m \u001b[1m0s\u001b[0m 7ms/step - loss: 10103724.0000 - mean_absolute_error: 10103724.0000 - val_loss: 10110531.0000 - val_mean_absolute_error: 10110531.0000\n",
      "Epoch 57/100\n",
      "\u001b[1m12/12\u001b[0m \u001b[32m━━━━━━━━━━━━━━━━━━━━\u001b[0m\u001b[37m\u001b[0m \u001b[1m0s\u001b[0m 7ms/step - loss: 10103750.0000 - mean_absolute_error: 10103750.0000 - val_loss: 10110530.0000 - val_mean_absolute_error: 10110530.0000\n",
      "Epoch 58/100\n",
      "\u001b[1m12/12\u001b[0m \u001b[32m━━━━━━━━━━━━━━━━━━━━\u001b[0m\u001b[37m\u001b[0m \u001b[1m0s\u001b[0m 7ms/step - loss: 10103770.0000 - mean_absolute_error: 10103770.0000 - val_loss: 10110529.0000 - val_mean_absolute_error: 10110529.0000\n",
      "Epoch 59/100\n",
      "\u001b[1m12/12\u001b[0m \u001b[32m━━━━━━━━━━━━━━━━━━━━\u001b[0m\u001b[37m\u001b[0m \u001b[1m0s\u001b[0m 7ms/step - loss: 10103496.0000 - mean_absolute_error: 10103496.0000 - val_loss: 10110529.0000 - val_mean_absolute_error: 10110529.0000\n",
      "Epoch 60/100\n",
      "\u001b[1m12/12\u001b[0m \u001b[32m━━━━━━━━━━━━━━━━━━━━\u001b[0m\u001b[37m\u001b[0m \u001b[1m0s\u001b[0m 7ms/step - loss: 10103688.0000 - mean_absolute_error: 10103688.0000 - val_loss: 10110528.0000 - val_mean_absolute_error: 10110528.0000\n",
      "Epoch 61/100\n",
      "\u001b[1m12/12\u001b[0m \u001b[32m━━━━━━━━━━━━━━━━━━━━\u001b[0m\u001b[37m\u001b[0m \u001b[1m0s\u001b[0m 6ms/step - loss: 10103530.0000 - mean_absolute_error: 10103530.0000 - val_loss: 10110526.0000 - val_mean_absolute_error: 10110526.0000\n",
      "Epoch 62/100\n",
      "\u001b[1m12/12\u001b[0m \u001b[32m━━━━━━━━━━━━━━━━━━━━\u001b[0m\u001b[37m\u001b[0m \u001b[1m0s\u001b[0m 7ms/step - loss: 10103862.0000 - mean_absolute_error: 10103862.0000 - val_loss: 10110526.0000 - val_mean_absolute_error: 10110526.0000\n",
      "Epoch 63/100\n",
      "\u001b[1m12/12\u001b[0m \u001b[32m━━━━━━━━━━━━━━━━━━━━\u001b[0m\u001b[37m\u001b[0m \u001b[1m0s\u001b[0m 7ms/step - loss: 10103960.0000 - mean_absolute_error: 10103960.0000 - val_loss: 10110525.0000 - val_mean_absolute_error: 10110525.0000\n",
      "Epoch 64/100\n",
      "\u001b[1m12/12\u001b[0m \u001b[32m━━━━━━━━━━━━━━━━━━━━\u001b[0m\u001b[37m\u001b[0m \u001b[1m0s\u001b[0m 6ms/step - loss: 10103800.0000 - mean_absolute_error: 10103800.0000 - val_loss: 10110525.0000 - val_mean_absolute_error: 10110525.0000\n",
      "Epoch 65/100\n",
      "\u001b[1m12/12\u001b[0m \u001b[32m━━━━━━━━━━━━━━━━━━━━\u001b[0m\u001b[37m\u001b[0m \u001b[1m0s\u001b[0m 6ms/step - loss: 10104061.0000 - mean_absolute_error: 10104061.0000 - val_loss: 10110523.0000 - val_mean_absolute_error: 10110523.0000\n",
      "Epoch 66/100\n",
      "\u001b[1m12/12\u001b[0m \u001b[32m━━━━━━━━━━━━━━━━━━━━\u001b[0m\u001b[37m\u001b[0m \u001b[1m0s\u001b[0m 6ms/step - loss: 10103725.0000 - mean_absolute_error: 10103725.0000 - val_loss: 10110522.0000 - val_mean_absolute_error: 10110522.0000\n",
      "Epoch 67/100\n",
      "\u001b[1m12/12\u001b[0m \u001b[32m━━━━━━━━━━━━━━━━━━━━\u001b[0m\u001b[37m\u001b[0m \u001b[1m0s\u001b[0m 6ms/step - loss: 10103922.0000 - mean_absolute_error: 10103922.0000 - val_loss: 10110521.0000 - val_mean_absolute_error: 10110521.0000\n",
      "Epoch 68/100\n",
      "\u001b[1m12/12\u001b[0m \u001b[32m━━━━━━━━━━━━━━━━━━━━\u001b[0m\u001b[37m\u001b[0m \u001b[1m0s\u001b[0m 6ms/step - loss: 10103947.0000 - mean_absolute_error: 10103947.0000 - val_loss: 10110521.0000 - val_mean_absolute_error: 10110521.0000\n",
      "Epoch 69/100\n",
      "\u001b[1m12/12\u001b[0m \u001b[32m━━━━━━━━━━━━━━━━━━━━\u001b[0m\u001b[37m\u001b[0m \u001b[1m0s\u001b[0m 7ms/step - loss: 10104019.0000 - mean_absolute_error: 10104019.0000 - val_loss: 10110519.0000 - val_mean_absolute_error: 10110519.0000\n",
      "Epoch 70/100\n",
      "\u001b[1m12/12\u001b[0m \u001b[32m━━━━━━━━━━━━━━━━━━━━\u001b[0m\u001b[37m\u001b[0m \u001b[1m0s\u001b[0m 7ms/step - loss: 10103990.0000 - mean_absolute_error: 10103990.0000 - val_loss: 10110518.0000 - val_mean_absolute_error: 10110518.0000\n",
      "Epoch 71/100\n",
      "\u001b[1m12/12\u001b[0m \u001b[32m━━━━━━━━━━━━━━━━━━━━\u001b[0m\u001b[37m\u001b[0m \u001b[1m0s\u001b[0m 6ms/step - loss: 10103853.0000 - mean_absolute_error: 10103853.0000 - val_loss: 10110517.0000 - val_mean_absolute_error: 10110517.0000\n",
      "Epoch 72/100\n",
      "\u001b[1m12/12\u001b[0m \u001b[32m━━━━━━━━━━━━━━━━━━━━\u001b[0m\u001b[37m\u001b[0m \u001b[1m0s\u001b[0m 6ms/step - loss: 10103807.0000 - mean_absolute_error: 10103807.0000 - val_loss: 10110516.0000 - val_mean_absolute_error: 10110516.0000\n",
      "Epoch 73/100\n",
      "\u001b[1m12/12\u001b[0m \u001b[32m━━━━━━━━━━━━━━━━━━━━\u001b[0m\u001b[37m\u001b[0m \u001b[1m0s\u001b[0m 6ms/step - loss: 10103770.0000 - mean_absolute_error: 10103770.0000 - val_loss: 10110515.0000 - val_mean_absolute_error: 10110515.0000\n",
      "Epoch 74/100\n",
      "\u001b[1m12/12\u001b[0m \u001b[32m━━━━━━━━━━━━━━━━━━━━\u001b[0m\u001b[37m\u001b[0m \u001b[1m0s\u001b[0m 6ms/step - loss: 10103805.0000 - mean_absolute_error: 10103805.0000 - val_loss: 10110514.0000 - val_mean_absolute_error: 10110514.0000\n",
      "Epoch 75/100\n",
      "\u001b[1m12/12\u001b[0m \u001b[32m━━━━━━━━━━━━━━━━━━━━\u001b[0m\u001b[37m\u001b[0m \u001b[1m0s\u001b[0m 6ms/step - loss: 10103885.0000 - mean_absolute_error: 10103885.0000 - val_loss: 10110513.0000 - val_mean_absolute_error: 10110513.0000\n",
      "Epoch 76/100\n",
      "\u001b[1m12/12\u001b[0m \u001b[32m━━━━━━━━━━━━━━━━━━━━\u001b[0m\u001b[37m\u001b[0m \u001b[1m0s\u001b[0m 6ms/step - loss: 10103933.0000 - mean_absolute_error: 10103933.0000 - val_loss: 10110513.0000 - val_mean_absolute_error: 10110513.0000\n",
      "Epoch 77/100\n",
      "\u001b[1m12/12\u001b[0m \u001b[32m━━━━━━━━━━━━━━━━━━━━\u001b[0m\u001b[37m\u001b[0m \u001b[1m0s\u001b[0m 6ms/step - loss: 10103680.0000 - mean_absolute_error: 10103680.0000 - val_loss: 10110511.0000 - val_mean_absolute_error: 10110511.0000\n",
      "Epoch 78/100\n",
      "\u001b[1m12/12\u001b[0m \u001b[32m━━━━━━━━━━━━━━━━━━━━\u001b[0m\u001b[37m\u001b[0m \u001b[1m0s\u001b[0m 6ms/step - loss: 10103764.0000 - mean_absolute_error: 10103764.0000 - val_loss: 10110510.0000 - val_mean_absolute_error: 10110510.0000\n",
      "Epoch 79/100\n",
      "\u001b[1m12/12\u001b[0m \u001b[32m━━━━━━━━━━━━━━━━━━━━\u001b[0m\u001b[37m\u001b[0m \u001b[1m0s\u001b[0m 6ms/step - loss: 10103914.0000 - mean_absolute_error: 10103914.0000 - val_loss: 10110510.0000 - val_mean_absolute_error: 10110510.0000\n",
      "Epoch 80/100\n",
      "\u001b[1m12/12\u001b[0m \u001b[32m━━━━━━━━━━━━━━━━━━━━\u001b[0m\u001b[37m\u001b[0m \u001b[1m0s\u001b[0m 7ms/step - loss: 10103689.0000 - mean_absolute_error: 10103689.0000 - val_loss: 10110509.0000 - val_mean_absolute_error: 10110509.0000\n",
      "Epoch 81/100\n",
      "\u001b[1m12/12\u001b[0m \u001b[32m━━━━━━━━━━━━━━━━━━━━\u001b[0m\u001b[37m\u001b[0m \u001b[1m0s\u001b[0m 6ms/step - loss: 10103785.0000 - mean_absolute_error: 10103785.0000 - val_loss: 10110509.0000 - val_mean_absolute_error: 10110509.0000\n",
      "Epoch 82/100\n",
      "\u001b[1m12/12\u001b[0m \u001b[32m━━━━━━━━━━━━━━━━━━━━\u001b[0m\u001b[37m\u001b[0m \u001b[1m0s\u001b[0m 7ms/step - loss: 10103647.0000 - mean_absolute_error: 10103647.0000 - val_loss: 10110507.0000 - val_mean_absolute_error: 10110507.0000\n",
      "Epoch 83/100\n",
      "\u001b[1m12/12\u001b[0m \u001b[32m━━━━━━━━━━━━━━━━━━━━\u001b[0m\u001b[37m\u001b[0m \u001b[1m0s\u001b[0m 6ms/step - loss: 10103669.0000 - mean_absolute_error: 10103669.0000 - val_loss: 10110506.0000 - val_mean_absolute_error: 10110506.0000\n",
      "Epoch 84/100\n",
      "\u001b[1m12/12\u001b[0m \u001b[32m━━━━━━━━━━━━━━━━━━━━\u001b[0m\u001b[37m\u001b[0m \u001b[1m0s\u001b[0m 6ms/step - loss: 10104075.0000 - mean_absolute_error: 10104075.0000 - val_loss: 10110505.0000 - val_mean_absolute_error: 10110505.0000\n",
      "Epoch 85/100\n",
      "\u001b[1m12/12\u001b[0m \u001b[32m━━━━━━━━━━━━━━━━━━━━\u001b[0m\u001b[37m\u001b[0m \u001b[1m0s\u001b[0m 6ms/step - loss: 10103880.0000 - mean_absolute_error: 10103880.0000 - val_loss: 10110505.0000 - val_mean_absolute_error: 10110505.0000\n",
      "Epoch 86/100\n",
      "\u001b[1m12/12\u001b[0m \u001b[32m━━━━━━━━━━━━━━━━━━━━\u001b[0m\u001b[37m\u001b[0m \u001b[1m0s\u001b[0m 6ms/step - loss: 10103857.0000 - mean_absolute_error: 10103857.0000 - val_loss: 10110503.0000 - val_mean_absolute_error: 10110503.0000\n",
      "Epoch 87/100\n",
      "\u001b[1m12/12\u001b[0m \u001b[32m━━━━━━━━━━━━━━━━━━━━\u001b[0m\u001b[37m\u001b[0m \u001b[1m0s\u001b[0m 7ms/step - loss: 10103882.0000 - mean_absolute_error: 10103882.0000 - val_loss: 10110503.0000 - val_mean_absolute_error: 10110503.0000\n",
      "Epoch 88/100\n",
      "\u001b[1m12/12\u001b[0m \u001b[32m━━━━━━━━━━━━━━━━━━━━\u001b[0m\u001b[37m\u001b[0m \u001b[1m0s\u001b[0m 6ms/step - loss: 10103766.0000 - mean_absolute_error: 10103766.0000 - val_loss: 10110501.0000 - val_mean_absolute_error: 10110501.0000\n",
      "Epoch 89/100\n",
      "\u001b[1m12/12\u001b[0m \u001b[32m━━━━━━━━━━━━━━━━━━━━\u001b[0m\u001b[37m\u001b[0m \u001b[1m0s\u001b[0m 6ms/step - loss: 10103668.0000 - mean_absolute_error: 10103668.0000 - val_loss: 10110501.0000 - val_mean_absolute_error: 10110501.0000\n",
      "Epoch 90/100\n",
      "\u001b[1m12/12\u001b[0m \u001b[32m━━━━━━━━━━━━━━━━━━━━\u001b[0m\u001b[37m\u001b[0m \u001b[1m0s\u001b[0m 6ms/step - loss: 10103868.0000 - mean_absolute_error: 10103868.0000 - val_loss: 10110499.0000 - val_mean_absolute_error: 10110499.0000\n",
      "Epoch 91/100\n",
      "\u001b[1m12/12\u001b[0m \u001b[32m━━━━━━━━━━━━━━━━━━━━\u001b[0m\u001b[37m\u001b[0m \u001b[1m0s\u001b[0m 6ms/step - loss: 10103849.0000 - mean_absolute_error: 10103849.0000 - val_loss: 10110499.0000 - val_mean_absolute_error: 10110499.0000\n",
      "Epoch 92/100\n",
      "\u001b[1m12/12\u001b[0m \u001b[32m━━━━━━━━━━━━━━━━━━━━\u001b[0m\u001b[37m\u001b[0m \u001b[1m0s\u001b[0m 6ms/step - loss: 10103728.0000 - mean_absolute_error: 10103728.0000 - val_loss: 10110497.0000 - val_mean_absolute_error: 10110497.0000\n",
      "Epoch 93/100\n",
      "\u001b[1m12/12\u001b[0m \u001b[32m━━━━━━━━━━━━━━━━━━━━\u001b[0m\u001b[37m\u001b[0m \u001b[1m0s\u001b[0m 6ms/step - loss: 10103464.0000 - mean_absolute_error: 10103464.0000 - val_loss: 10110497.0000 - val_mean_absolute_error: 10110497.0000\n",
      "Epoch 94/100\n",
      "\u001b[1m12/12\u001b[0m \u001b[32m━━━━━━━━━━━━━━━━━━━━\u001b[0m\u001b[37m\u001b[0m \u001b[1m0s\u001b[0m 6ms/step - loss: 10103951.0000 - mean_absolute_error: 10103951.0000 - val_loss: 10110496.0000 - val_mean_absolute_error: 10110496.0000\n",
      "Epoch 95/100\n",
      "\u001b[1m12/12\u001b[0m \u001b[32m━━━━━━━━━━━━━━━━━━━━\u001b[0m\u001b[37m\u001b[0m \u001b[1m0s\u001b[0m 7ms/step - loss: 10103782.0000 - mean_absolute_error: 10103782.0000 - val_loss: 10110495.0000 - val_mean_absolute_error: 10110495.0000\n",
      "Epoch 96/100\n",
      "\u001b[1m12/12\u001b[0m \u001b[32m━━━━━━━━━━━━━━━━━━━━\u001b[0m\u001b[37m\u001b[0m \u001b[1m0s\u001b[0m 6ms/step - loss: 10103573.0000 - mean_absolute_error: 10103573.0000 - val_loss: 10110495.0000 - val_mean_absolute_error: 10110495.0000\n",
      "Epoch 97/100\n",
      "\u001b[1m12/12\u001b[0m \u001b[32m━━━━━━━━━━━━━━━━━━━━\u001b[0m\u001b[37m\u001b[0m \u001b[1m0s\u001b[0m 7ms/step - loss: 10103779.0000 - mean_absolute_error: 10103779.0000 - val_loss: 10110493.0000 - val_mean_absolute_error: 10110493.0000\n",
      "Epoch 98/100\n",
      "\u001b[1m12/12\u001b[0m \u001b[32m━━━━━━━━━━━━━━━━━━━━\u001b[0m\u001b[37m\u001b[0m \u001b[1m0s\u001b[0m 7ms/step - loss: 10103845.0000 - mean_absolute_error: 10103845.0000 - val_loss: 10110493.0000 - val_mean_absolute_error: 10110493.0000\n",
      "Epoch 99/100\n",
      "\u001b[1m12/12\u001b[0m \u001b[32m━━━━━━━━━━━━━━━━━━━━\u001b[0m\u001b[37m\u001b[0m \u001b[1m0s\u001b[0m 6ms/step - loss: 10103811.0000 - mean_absolute_error: 10103811.0000 - val_loss: 10110493.0000 - val_mean_absolute_error: 10110493.0000\n",
      "Epoch 100/100\n",
      "\u001b[1m12/12\u001b[0m \u001b[32m━━━━━━━━━━━━━━━━━━━━\u001b[0m\u001b[37m\u001b[0m \u001b[1m0s\u001b[0m 9ms/step - loss: 10103792.0000 - mean_absolute_error: 10103792.0000 - val_loss: 10110491.0000 - val_mean_absolute_error: 10110491.0000\n",
      "Epoch 1: mean_absolute_error = 10103900.0000\n",
      "Epoch 2: mean_absolute_error = 10103898.0000\n",
      "Epoch 3: mean_absolute_error = 10103894.0000\n",
      "Epoch 4: mean_absolute_error = 10103892.0000\n",
      "Epoch 5: mean_absolute_error = 10103890.0000\n",
      "Epoch 6: mean_absolute_error = 10103888.0000\n",
      "Epoch 7: mean_absolute_error = 10103886.0000\n",
      "Epoch 8: mean_absolute_error = 10103885.0000\n",
      "Epoch 9: mean_absolute_error = 10103883.0000\n",
      "Epoch 10: mean_absolute_error = 10103883.0000\n",
      "Epoch 11: mean_absolute_error = 10103881.0000\n",
      "Epoch 12: mean_absolute_error = 10103880.0000\n",
      "Epoch 13: mean_absolute_error = 10103879.0000\n",
      "Epoch 14: mean_absolute_error = 10103878.0000\n",
      "Epoch 15: mean_absolute_error = 10103877.0000\n",
      "Epoch 16: mean_absolute_error = 10103877.0000\n",
      "Epoch 17: mean_absolute_error = 10103874.0000\n",
      "Epoch 18: mean_absolute_error = 10103873.0000\n",
      "Epoch 19: mean_absolute_error = 10103873.0000\n",
      "Epoch 20: mean_absolute_error = 10103872.0000\n",
      "Epoch 21: mean_absolute_error = 10103871.0000\n",
      "Epoch 22: mean_absolute_error = 10103870.0000\n",
      "Epoch 23: mean_absolute_error = 10103870.0000\n",
      "Epoch 24: mean_absolute_error = 10103868.0000\n",
      "Epoch 25: mean_absolute_error = 10103868.0000\n",
      "Epoch 26: mean_absolute_error = 10103866.0000\n",
      "Epoch 27: mean_absolute_error = 10103866.0000\n",
      "Epoch 28: mean_absolute_error = 10103864.0000\n",
      "Epoch 29: mean_absolute_error = 10103862.0000\n",
      "Epoch 30: mean_absolute_error = 10103862.0000\n",
      "Epoch 31: mean_absolute_error = 10103861.0000\n",
      "Epoch 32: mean_absolute_error = 10103860.0000\n",
      "Epoch 33: mean_absolute_error = 10103860.0000\n",
      "Epoch 34: mean_absolute_error = 10103859.0000\n",
      "Epoch 35: mean_absolute_error = 10103858.0000\n",
      "Epoch 36: mean_absolute_error = 10103856.0000\n",
      "Epoch 37: mean_absolute_error = 10103855.0000\n",
      "Epoch 38: mean_absolute_error = 10103854.0000\n",
      "Epoch 39: mean_absolute_error = 10103853.0000\n",
      "Epoch 40: mean_absolute_error = 10103852.0000\n",
      "Epoch 41: mean_absolute_error = 10103852.0000\n",
      "Epoch 42: mean_absolute_error = 10103850.0000\n",
      "Epoch 43: mean_absolute_error = 10103850.0000\n",
      "Epoch 44: mean_absolute_error = 10103848.0000\n",
      "Epoch 45: mean_absolute_error = 10103847.0000\n",
      "Epoch 46: mean_absolute_error = 10103846.0000\n",
      "Epoch 47: mean_absolute_error = 10103845.0000\n",
      "Epoch 48: mean_absolute_error = 10103844.0000\n",
      "Epoch 49: mean_absolute_error = 10103844.0000\n",
      "Epoch 50: mean_absolute_error = 10103842.0000\n",
      "Epoch 51: mean_absolute_error = 10103842.0000\n",
      "Epoch 52: mean_absolute_error = 10103842.0000\n",
      "Epoch 53: mean_absolute_error = 10103840.0000\n",
      "Epoch 54: mean_absolute_error = 10103839.0000\n",
      "Epoch 55: mean_absolute_error = 10103837.0000\n",
      "Epoch 56: mean_absolute_error = 10103836.0000\n",
      "Epoch 57: mean_absolute_error = 10103835.0000\n",
      "Epoch 58: mean_absolute_error = 10103835.0000\n",
      "Epoch 59: mean_absolute_error = 10103833.0000\n",
      "Epoch 60: mean_absolute_error = 10103835.0000\n",
      "Epoch 61: mean_absolute_error = 10103831.0000\n",
      "Epoch 62: mean_absolute_error = 10103831.0000\n",
      "Epoch 63: mean_absolute_error = 10103830.0000\n",
      "Epoch 64: mean_absolute_error = 10103829.0000\n",
      "Epoch 65: mean_absolute_error = 10103829.0000\n",
      "Epoch 66: mean_absolute_error = 10103829.0000\n",
      "Epoch 67: mean_absolute_error = 10103827.0000\n",
      "Epoch 68: mean_absolute_error = 10103825.0000\n",
      "Epoch 69: mean_absolute_error = 10103825.0000\n",
      "Epoch 70: mean_absolute_error = 10103823.0000\n",
      "Epoch 71: mean_absolute_error = 10103822.0000\n",
      "Epoch 72: mean_absolute_error = 10103822.0000\n",
      "Epoch 73: mean_absolute_error = 10103821.0000\n",
      "Epoch 74: mean_absolute_error = 10103821.0000\n",
      "Epoch 75: mean_absolute_error = 10103820.0000\n",
      "Epoch 76: mean_absolute_error = 10103818.0000\n",
      "Epoch 77: mean_absolute_error = 10103817.0000\n",
      "Epoch 78: mean_absolute_error = 10103816.0000\n",
      "Epoch 79: mean_absolute_error = 10103816.0000\n",
      "Epoch 80: mean_absolute_error = 10103813.0000\n",
      "Epoch 81: mean_absolute_error = 10103813.0000\n",
      "Epoch 82: mean_absolute_error = 10103811.0000\n",
      "Epoch 83: mean_absolute_error = 10103811.0000\n",
      "Epoch 84: mean_absolute_error = 10103810.0000\n",
      "Epoch 85: mean_absolute_error = 10103810.0000\n",
      "Epoch 86: mean_absolute_error = 10103809.0000\n",
      "Epoch 87: mean_absolute_error = 10103808.0000\n",
      "Epoch 88: mean_absolute_error = 10103807.0000\n",
      "Epoch 89: mean_absolute_error = 10103805.0000\n",
      "Epoch 90: mean_absolute_error = 10103805.0000\n",
      "Epoch 91: mean_absolute_error = 10103803.0000\n",
      "Epoch 92: mean_absolute_error = 10103803.0000\n",
      "Epoch 93: mean_absolute_error = 10103801.0000\n",
      "Epoch 94: mean_absolute_error = 10103802.0000\n",
      "Epoch 95: mean_absolute_error = 10103800.0000\n",
      "Epoch 96: mean_absolute_error = 10103800.0000\n",
      "Epoch 97: mean_absolute_error = 10103799.0000\n",
      "Epoch 98: mean_absolute_error = 10103797.0000\n",
      "Epoch 99: mean_absolute_error = 10103796.0000\n",
      "Epoch 100: mean_absolute_error = 10103796.0000\n"
     ]
    }
   ],
   "source": [
    "history = model.fit(X_train_reshaped, y_train, epochs=100, batch_size=64, validation_split=0.1)\n",
    "\n",
    "train_accuracy = history.history['mean_absolute_error']\n",
    "\n",
    "for epoch, accuracy in enumerate(train_accuracy):\n",
    "    print(f\"Epoch {epoch + 1}: mean_absolute_error = {accuracy:.4f}\")"
   ]
  },
  {
   "cell_type": "code",
   "execution_count": 315,
   "metadata": {},
   "outputs": [
    {
     "name": "stdout",
     "output_type": "stream",
     "text": [
      "\u001b[1m12/12\u001b[0m \u001b[32m━━━━━━━━━━━━━━━━━━━━\u001b[0m\u001b[37m\u001b[0m \u001b[1m0s\u001b[0m 7ms/step\n"
     ]
    }
   ],
   "source": [
    "X_test_scaled_array = X_test_scaled.to_numpy()\n",
    "X_test_scaled_reshaped = X_test_scaled_array.reshape(X_test_scaled_array.shape[0], 1, X_test_scaled_array.shape[1])\n",
    "\n",
    "predictions = model.predict(X_test_scaled_reshaped)"
   ]
  },
  {
   "cell_type": "code",
   "execution_count": 316,
   "metadata": {},
   "outputs": [
    {
     "name": "stdout",
     "output_type": "stream",
     "text": [
      "MAE: 199.0390944218925, RMSE: 225.26410767150287, R2: -7.231628078127789\n"
     ]
    }
   ],
   "source": [
    "mae = mean_absolute_error(y_test['PRC'], predictions)\n",
    "rmse = np.sqrt(mean_squared_error(y_test['PRC'], predictions))\n",
    "r2 = r2_score(y_test['PRC'], predictions)\n",
    "\n",
    "print(f'MAE: {mae}, RMSE: {rmse}, R2: {r2}')"
   ]
  }
 ],
 "metadata": {
  "kernelspec": {
   "display_name": ".conda",
   "language": "python",
   "name": "python3"
  },
  "language_info": {
   "codemirror_mode": {
    "name": "ipython",
    "version": 3
   },
   "file_extension": ".py",
   "mimetype": "text/x-python",
   "name": "python",
   "nbconvert_exporter": "python",
   "pygments_lexer": "ipython3",
   "version": "3.11.9"
  }
 },
 "nbformat": 4,
 "nbformat_minor": 2
}
