{
 "cells": [
  {
   "cell_type": "code",
   "execution_count": null,
   "metadata": {},
   "outputs": [],
   "source": [
    "!pip install tensorflow"
   ]
  },
  {
   "cell_type": "code",
   "execution_count": 257,
   "metadata": {},
   "outputs": [],
   "source": [
    "import pandas as pd\n",
    "import numpy as np\n",
    "from sklearn.preprocessing import OneHotEncoder, StandardScaler\n",
    "from sklearn.preprocessing import StandardScaler\n",
    "import tensorflow as tf\n",
    "from tensorflow.keras import datasets, layers, models\n",
    "from tensorflow.keras.models import Sequential\n",
    "from tensorflow.keras.layers import Conv1D, MaxPooling1D, LSTM, Dense\n",
    "from tensorflow.keras.optimizers import Adam\n",
    "from sklearn.metrics import mean_absolute_error, mean_squared_error, r2_score"
   ]
  },
  {
   "cell_type": "markdown",
   "metadata": {},
   "source": [
    "cleaning + preprocessing data "
   ]
  },
  {
   "cell_type": "code",
   "execution_count": 279,
   "metadata": {},
   "outputs": [
    {
     "name": "stderr",
     "output_type": "stream",
     "text": [
      "/var/folders/v6/lhv05hmx5v94886x_jxd39s00000gn/T/ipykernel_20597/1353134829.py:1: DtypeWarning: Columns (9,49,57) have mixed types. Specify dtype option on import or set low_memory=False.\n",
      "  stocks_df = pd.read_csv('stocks.csv')\n"
     ]
    }
   ],
   "source": [
    "stocks_df = pd.read_csv('stocks.csv')"
   ]
  },
  {
   "cell_type": "code",
   "execution_count": 280,
   "metadata": {},
   "outputs": [],
   "source": [
    "stocks_df = stocks_df.drop(columns=['PERMCO', 'COMNAM', 'HEXCD', 'ISSUNO', 'TRDSTAT', 'SECSTAT', 'DISTCD'], axis=1)"
   ]
  },
  {
   "cell_type": "code",
   "execution_count": 281,
   "metadata": {},
   "outputs": [],
   "source": [
    "missing_percentage = stocks_df.isnull().sum() * 100 / len(stocks_df)\n",
    "columns_to_drop = missing_percentage[missing_percentage > 90].keys()\n",
    "stocks_df = stocks_df.drop(columns=columns_to_drop, axis=1)\n",
    "stocks_df = stocks_df.dropna()"
   ]
  },
  {
   "cell_type": "code",
   "execution_count": 282,
   "metadata": {},
   "outputs": [],
   "source": [
    "to_encode = stocks_df.select_dtypes(include=['object']).columns\n",
    "not_encode = stocks_df.select_dtypes(exclude=['object']).columns\n",
    "not_encode = not_encode.drop(labels=['PRC'])"
   ]
  },
  {
   "cell_type": "code",
   "execution_count": 283,
   "metadata": {},
   "outputs": [],
   "source": [
    "X = stocks_df[['PERMNO', 'date', 'SHRCD', 'NCUSIP', 'EXCHCD', 'SICCD', 'TICKER',\n",
    "       'SHRCLS', 'TSYMBOL', 'NAICS', 'PRIMEXCH', 'HSICCD', 'CUSIP', 'HSICMG',\n",
    "       'HSICIG', 'BIDLO', 'ASKHI', 'VOL', 'RET', 'BID', 'ASK', 'SHROUT',\n",
    "       'CFACPR', 'CFACSHR', 'OPENPRC', 'NUMTRD', 'RETX', 'vwretd', 'vwretx',\n",
    "       'ewretd', 'ewretx', 'sprtrn']]\n",
    "\n",
    "y = stocks_df[['PRC', 'date']]"
   ]
  },
  {
   "cell_type": "code",
   "execution_count": 284,
   "metadata": {},
   "outputs": [],
   "source": [
    "stocks_df['date'] = pd.to_datetime(stocks_df['date'])\n",
    "\n",
    "train_start = '2019-01-02'\n",
    "train_end = '2022-12-30'\n",
    "test_start = '2023-01-03'\n",
    "test_end = '2023-12-29'"
   ]
  },
  {
   "cell_type": "code",
   "execution_count": 285,
   "metadata": {},
   "outputs": [],
   "source": [
    "X_train = X[(X['date'] >= train_start) & (X['date'] <= train_end)]\n",
    "y_train = y[(y['date'] >= train_start) & (y['date'] <= train_end)]\n",
    "X_test = X[(X['date'] >= test_start) & (X['date'] <= test_end)]\n",
    "y_test = y[(y['date'] >= test_start) & (y['date'] <= test_end)]"
   ]
  },
  {
   "cell_type": "code",
   "execution_count": 286,
   "metadata": {},
   "outputs": [
    {
     "name": "stderr",
     "output_type": "stream",
     "text": [
      "/var/folders/v6/lhv05hmx5v94886x_jxd39s00000gn/T/ipykernel_20597/2855478841.py:1: SettingWithCopyWarning: \n",
      "A value is trying to be set on a copy of a slice from a DataFrame.\n",
      "Try using .loc[row_indexer,col_indexer] = value instead\n",
      "\n",
      "See the caveats in the documentation: https://pandas.pydata.org/pandas-docs/stable/user_guide/indexing.html#returning-a-view-versus-a-copy\n",
      "  X_train['date'] = X_train['date'].apply(lambda x: x.replace('-', '')).astype(int)\n",
      "/var/folders/v6/lhv05hmx5v94886x_jxd39s00000gn/T/ipykernel_20597/2855478841.py:2: SettingWithCopyWarning: \n",
      "A value is trying to be set on a copy of a slice from a DataFrame.\n",
      "Try using .loc[row_indexer,col_indexer] = value instead\n",
      "\n",
      "See the caveats in the documentation: https://pandas.pydata.org/pandas-docs/stable/user_guide/indexing.html#returning-a-view-versus-a-copy\n",
      "  X_test['date'] = X_test['date'].apply(lambda x: x.replace('-', '')).astype(int)\n",
      "/var/folders/v6/lhv05hmx5v94886x_jxd39s00000gn/T/ipykernel_20597/2855478841.py:4: SettingWithCopyWarning: \n",
      "A value is trying to be set on a copy of a slice from a DataFrame.\n",
      "Try using .loc[row_indexer,col_indexer] = value instead\n",
      "\n",
      "See the caveats in the documentation: https://pandas.pydata.org/pandas-docs/stable/user_guide/indexing.html#returning-a-view-versus-a-copy\n",
      "  y_train['date'] = y_train['date'].apply(lambda x: x.replace('-', '')).astype(int)\n",
      "/var/folders/v6/lhv05hmx5v94886x_jxd39s00000gn/T/ipykernel_20597/2855478841.py:5: SettingWithCopyWarning: \n",
      "A value is trying to be set on a copy of a slice from a DataFrame.\n",
      "Try using .loc[row_indexer,col_indexer] = value instead\n",
      "\n",
      "See the caveats in the documentation: https://pandas.pydata.org/pandas-docs/stable/user_guide/indexing.html#returning-a-view-versus-a-copy\n",
      "  y_test['date'] = y_test['date'].apply(lambda x: x.replace('-', '')).astype(int)\n"
     ]
    }
   ],
   "source": [
    "X_train['date'] = X_train['date'].apply(lambda x: x.replace('-', '')).astype(int) \n",
    "X_test['date'] = X_test['date'].apply(lambda x: x.replace('-', '')).astype(int) \n",
    "\n",
    "y_train['date'] = y_train['date'].apply(lambda x: x.replace('-', '')).astype(int) \n",
    "y_test['date'] = y_test['date'].apply(lambda x: x.replace('-', '')).astype(int) "
   ]
  },
  {
   "cell_type": "markdown",
   "metadata": {},
   "source": [
    "CNN-LSTM hybrid model for stock price prediction"
   ]
  },
  {
   "cell_type": "code",
   "execution_count": 290,
   "metadata": {},
   "outputs": [],
   "source": [
    "encoder = OneHotEncoder(handle_unknown='ignore')\n",
    "encoder.fit(X_train[to_encode])\n",
    "\n",
    "X_train_encoded = encoder.transform(X_train[to_encode])\n",
    "X_test_encoded = encoder.transform(X_test[to_encode])\n",
    "\n",
    "X_train_encoded_dense = X_train_encoded.toarray()\n",
    "X_test_encoded_dense = X_test_encoded.toarray()\n",
    "\n",
    "X_train_encoded_df = pd.DataFrame(X_train_encoded_dense, columns=encoder.get_feature_names_out(to_encode))\n",
    "X_test_encoded_df = pd.DataFrame(X_test_encoded_dense, columns=encoder.get_feature_names_out(to_encode))\n",
    "\n",
    "X_train_encoded_full = pd.concat([X_train_encoded_df, X_train[not_encode].reset_index(drop=True)], axis=1)\n",
    "X_test_encoded_full = pd.concat([X_test_encoded_df, X_test[not_encode].reset_index(drop=True)], axis=1)\n"
   ]
  },
  {
   "cell_type": "code",
   "execution_count": 291,
   "metadata": {},
   "outputs": [],
   "source": [
    "scaler = StandardScaler()\n",
    "\n",
    "X_train_scaled = X_train_encoded_full.copy(deep = True)\n",
    "X_test_scaled = X_test_encoded_full.copy(deep = True)\n",
    "\n",
    "scaler.fit(X_train_scaled[not_encode])\n",
    "\n",
    "X_train_scaled[not_encode] = scaler.transform(X_train_scaled[not_encode])\n",
    "X_test_scaled[not_encode] = scaler.transform(X_test_scaled[not_encode])"
   ]
  },
  {
   "cell_type": "markdown",
   "metadata": {},
   "source": [
    "input layer \n",
    "one-dimensional convolution layer \n",
    "pooling layer \n",
    "LSTM hidden layer \n",
    "full connection layer "
   ]
  },
  {
   "cell_type": "code",
   "execution_count": 292,
   "metadata": {},
   "outputs": [],
   "source": [
    "X_train_reshaped = X_train_encoded_full.values.reshape(X_train_encoded_full.shape[0], 1, X_train_encoded_full.shape[1])"
   ]
  },
  {
   "cell_type": "code",
   "execution_count": 293,
   "metadata": {},
   "outputs": [
    {
     "name": "stderr",
     "output_type": "stream",
     "text": [
      "/Users/monishakrothapalli/Documents/GitHub/playlistGen/.conda/lib/python3.11/site-packages/keras/src/layers/convolutional/base_conv.py:107: UserWarning: Do not pass an `input_shape`/`input_dim` argument to a layer. When using Sequential models, prefer using an `Input(shape)` object as the first layer in the model instead.\n",
      "  super().__init__(activity_regularizer=activity_regularizer, **kwargs)\n"
     ]
    }
   ],
   "source": [
    "model = models.Sequential()\n",
    "model.add(layers.Conv1D(filters=32, kernel_size=1, padding='same', activation='tanh', input_shape=(X_train_reshaped.shape[1], X_train_reshaped.shape[2])))\n",
    "model.add(layers.MaxPooling1D(pool_size=1, padding='same'))\n",
    "model.add(LSTM(units=64, activation='tanh'))\n",
    "model.add(Dense(units=1))"
   ]
  },
  {
   "cell_type": "code",
   "execution_count": 300,
   "metadata": {},
   "outputs": [],
   "source": [
    "optimizer = Adam(learning_rate=0.001)\n",
    "model.compile(optimizer, loss='mean_absolute_error', metrics=['accuracy'])"
   ]
  },
  {
   "cell_type": "code",
   "execution_count": 301,
   "metadata": {},
   "outputs": [
    {
     "name": "stdout",
     "output_type": "stream",
     "text": [
      "Epoch 1/100\n",
      "\u001b[1m12/12\u001b[0m \u001b[32m━━━━━━━━━━━━━━━━━━━━\u001b[0m\u001b[37m\u001b[0m \u001b[1m1s\u001b[0m 14ms/step - accuracy: 0.0000e+00 - loss: 10103694.0000 - val_accuracy: 0.0000e+00 - val_loss: 10110476.0000\n",
      "Epoch 2/100\n",
      "\u001b[1m12/12\u001b[0m \u001b[32m━━━━━━━━━━━━━━━━━━━━\u001b[0m\u001b[37m\u001b[0m \u001b[1m0s\u001b[0m 4ms/step - accuracy: 0.0000e+00 - loss: 10103691.0000 - val_accuracy: 0.0000e+00 - val_loss: 10110476.0000\n",
      "Epoch 3/100\n",
      "\u001b[1m12/12\u001b[0m \u001b[32m━━━━━━━━━━━━━━━━━━━━\u001b[0m\u001b[37m\u001b[0m \u001b[1m0s\u001b[0m 4ms/step - accuracy: 0.0000e+00 - loss: 10103816.0000 - val_accuracy: 0.0000e+00 - val_loss: 10110475.0000\n",
      "Epoch 4/100\n",
      "\u001b[1m12/12\u001b[0m \u001b[32m━━━━━━━━━━━━━━━━━━━━\u001b[0m\u001b[37m\u001b[0m \u001b[1m0s\u001b[0m 4ms/step - accuracy: 0.0000e+00 - loss: 10103840.0000 - val_accuracy: 0.0000e+00 - val_loss: 10110475.0000\n",
      "Epoch 5/100\n",
      "\u001b[1m12/12\u001b[0m \u001b[32m━━━━━━━━━━━━━━━━━━━━\u001b[0m\u001b[37m\u001b[0m \u001b[1m0s\u001b[0m 4ms/step - accuracy: 0.0000e+00 - loss: 10103858.0000 - val_accuracy: 0.0000e+00 - val_loss: 10110475.0000\n",
      "Epoch 6/100\n",
      "\u001b[1m12/12\u001b[0m \u001b[32m━━━━━━━━━━━━━━━━━━━━\u001b[0m\u001b[37m\u001b[0m \u001b[1m0s\u001b[0m 4ms/step - accuracy: 0.0000e+00 - loss: 10103813.0000 - val_accuracy: 0.0000e+00 - val_loss: 10110474.0000\n",
      "Epoch 7/100\n",
      "\u001b[1m12/12\u001b[0m \u001b[32m━━━━━━━━━━━━━━━━━━━━\u001b[0m\u001b[37m\u001b[0m \u001b[1m0s\u001b[0m 4ms/step - accuracy: 0.0000e+00 - loss: 10103572.0000 - val_accuracy: 0.0000e+00 - val_loss: 10110475.0000\n",
      "Epoch 8/100\n",
      "\u001b[1m12/12\u001b[0m \u001b[32m━━━━━━━━━━━━━━━━━━━━\u001b[0m\u001b[37m\u001b[0m \u001b[1m0s\u001b[0m 4ms/step - accuracy: 0.0000e+00 - loss: 10103948.0000 - val_accuracy: 0.0000e+00 - val_loss: 10110475.0000\n",
      "Epoch 9/100\n",
      "\u001b[1m12/12\u001b[0m \u001b[32m━━━━━━━━━━━━━━━━━━━━\u001b[0m\u001b[37m\u001b[0m \u001b[1m0s\u001b[0m 4ms/step - accuracy: 0.0000e+00 - loss: 10103838.0000 - val_accuracy: 0.0000e+00 - val_loss: 10110474.0000\n",
      "Epoch 10/100\n",
      "\u001b[1m12/12\u001b[0m \u001b[32m━━━━━━━━━━━━━━━━━━━━\u001b[0m\u001b[37m\u001b[0m \u001b[1m0s\u001b[0m 4ms/step - accuracy: 0.0000e+00 - loss: 10103793.0000 - val_accuracy: 0.0000e+00 - val_loss: 10110475.0000\n",
      "Epoch 11/100\n",
      "\u001b[1m12/12\u001b[0m \u001b[32m━━━━━━━━━━━━━━━━━━━━\u001b[0m\u001b[37m\u001b[0m \u001b[1m0s\u001b[0m 4ms/step - accuracy: 0.0000e+00 - loss: 10103873.0000 - val_accuracy: 0.0000e+00 - val_loss: 10110475.0000\n",
      "Epoch 12/100\n",
      "\u001b[1m12/12\u001b[0m \u001b[32m━━━━━━━━━━━━━━━━━━━━\u001b[0m\u001b[37m\u001b[0m \u001b[1m0s\u001b[0m 4ms/step - accuracy: 0.0000e+00 - loss: 10103834.0000 - val_accuracy: 0.0000e+00 - val_loss: 10110475.0000\n",
      "Epoch 13/100\n",
      "\u001b[1m12/12\u001b[0m \u001b[32m━━━━━━━━━━━━━━━━━━━━\u001b[0m\u001b[37m\u001b[0m \u001b[1m0s\u001b[0m 4ms/step - accuracy: 0.0000e+00 - loss: 10103823.0000 - val_accuracy: 0.0000e+00 - val_loss: 10110475.0000\n",
      "Epoch 14/100\n",
      "\u001b[1m12/12\u001b[0m \u001b[32m━━━━━━━━━━━━━━━━━━━━\u001b[0m\u001b[37m\u001b[0m \u001b[1m0s\u001b[0m 4ms/step - accuracy: 0.0000e+00 - loss: 10103723.0000 - val_accuracy: 0.0000e+00 - val_loss: 10110475.0000\n",
      "Epoch 15/100\n",
      "\u001b[1m12/12\u001b[0m \u001b[32m━━━━━━━━━━━━━━━━━━━━\u001b[0m\u001b[37m\u001b[0m \u001b[1m0s\u001b[0m 4ms/step - accuracy: 0.0000e+00 - loss: 10103692.0000 - val_accuracy: 0.0000e+00 - val_loss: 10110475.0000\n",
      "Epoch 16/100\n",
      "\u001b[1m12/12\u001b[0m \u001b[32m━━━━━━━━━━━━━━━━━━━━\u001b[0m\u001b[37m\u001b[0m \u001b[1m0s\u001b[0m 4ms/step - accuracy: 0.0000e+00 - loss: 10103628.0000 - val_accuracy: 0.0000e+00 - val_loss: 10110472.0000\n",
      "Epoch 17/100\n",
      "\u001b[1m12/12\u001b[0m \u001b[32m━━━━━━━━━━━━━━━━━━━━\u001b[0m\u001b[37m\u001b[0m \u001b[1m0s\u001b[0m 4ms/step - accuracy: 0.0000e+00 - loss: 10103830.0000 - val_accuracy: 0.0000e+00 - val_loss: 10110473.0000\n",
      "Epoch 18/100\n",
      "\u001b[1m12/12\u001b[0m \u001b[32m━━━━━━━━━━━━━━━━━━━━\u001b[0m\u001b[37m\u001b[0m \u001b[1m0s\u001b[0m 4ms/step - accuracy: 0.0000e+00 - loss: 10103817.0000 - val_accuracy: 0.0000e+00 - val_loss: 10110473.0000\n",
      "Epoch 19/100\n",
      "\u001b[1m12/12\u001b[0m \u001b[32m━━━━━━━━━━━━━━━━━━━━\u001b[0m\u001b[37m\u001b[0m \u001b[1m0s\u001b[0m 4ms/step - accuracy: 0.0000e+00 - loss: 10103895.0000 - val_accuracy: 0.0000e+00 - val_loss: 10110472.0000\n",
      "Epoch 20/100\n",
      "\u001b[1m12/12\u001b[0m \u001b[32m━━━━━━━━━━━━━━━━━━━━\u001b[0m\u001b[37m\u001b[0m \u001b[1m0s\u001b[0m 4ms/step - accuracy: 0.0000e+00 - loss: 10103909.0000 - val_accuracy: 0.0000e+00 - val_loss: 10110473.0000\n",
      "Epoch 21/100\n",
      "\u001b[1m12/12\u001b[0m \u001b[32m━━━━━━━━━━━━━━━━━━━━\u001b[0m\u001b[37m\u001b[0m \u001b[1m0s\u001b[0m 4ms/step - accuracy: 0.0000e+00 - loss: 10103771.0000 - val_accuracy: 0.0000e+00 - val_loss: 10110473.0000\n",
      "Epoch 22/100\n",
      "\u001b[1m12/12\u001b[0m \u001b[32m━━━━━━━━━━━━━━━━━━━━\u001b[0m\u001b[37m\u001b[0m \u001b[1m0s\u001b[0m 4ms/step - accuracy: 0.0000e+00 - loss: 10103859.0000 - val_accuracy: 0.0000e+00 - val_loss: 10110473.0000\n",
      "Epoch 23/100\n",
      "\u001b[1m12/12\u001b[0m \u001b[32m━━━━━━━━━━━━━━━━━━━━\u001b[0m\u001b[37m\u001b[0m \u001b[1m0s\u001b[0m 4ms/step - accuracy: 0.0000e+00 - loss: 10103924.0000 - val_accuracy: 0.0000e+00 - val_loss: 10110472.0000\n",
      "Epoch 24/100\n",
      "\u001b[1m12/12\u001b[0m \u001b[32m━━━━━━━━━━━━━━━━━━━━\u001b[0m\u001b[37m\u001b[0m \u001b[1m0s\u001b[0m 4ms/step - accuracy: 0.0000e+00 - loss: 10103745.0000 - val_accuracy: 0.0000e+00 - val_loss: 10110473.0000\n",
      "Epoch 25/100\n",
      "\u001b[1m12/12\u001b[0m \u001b[32m━━━━━━━━━━━━━━━━━━━━\u001b[0m\u001b[37m\u001b[0m \u001b[1m0s\u001b[0m 4ms/step - accuracy: 0.0000e+00 - loss: 10103917.0000 - val_accuracy: 0.0000e+00 - val_loss: 10110473.0000\n",
      "Epoch 26/100\n",
      "\u001b[1m12/12\u001b[0m \u001b[32m━━━━━━━━━━━━━━━━━━━━\u001b[0m\u001b[37m\u001b[0m \u001b[1m0s\u001b[0m 4ms/step - accuracy: 0.0000e+00 - loss: 10103553.0000 - val_accuracy: 0.0000e+00 - val_loss: 10110472.0000\n",
      "Epoch 27/100\n",
      "\u001b[1m12/12\u001b[0m \u001b[32m━━━━━━━━━━━━━━━━━━━━\u001b[0m\u001b[37m\u001b[0m \u001b[1m0s\u001b[0m 4ms/step - accuracy: 0.0000e+00 - loss: 10103950.0000 - val_accuracy: 0.0000e+00 - val_loss: 10110472.0000\n",
      "Epoch 28/100\n",
      "\u001b[1m12/12\u001b[0m \u001b[32m━━━━━━━━━━━━━━━━━━━━\u001b[0m\u001b[37m\u001b[0m \u001b[1m0s\u001b[0m 4ms/step - accuracy: 0.0000e+00 - loss: 10103734.0000 - val_accuracy: 0.0000e+00 - val_loss: 10110472.0000\n",
      "Epoch 29/100\n",
      "\u001b[1m12/12\u001b[0m \u001b[32m━━━━━━━━━━━━━━━━━━━━\u001b[0m\u001b[37m\u001b[0m \u001b[1m0s\u001b[0m 4ms/step - accuracy: 0.0000e+00 - loss: 10103588.0000 - val_accuracy: 0.0000e+00 - val_loss: 10110472.0000\n",
      "Epoch 30/100\n",
      "\u001b[1m12/12\u001b[0m \u001b[32m━━━━━━━━━━━━━━━━━━━━\u001b[0m\u001b[37m\u001b[0m \u001b[1m0s\u001b[0m 4ms/step - accuracy: 0.0000e+00 - loss: 10103833.0000 - val_accuracy: 0.0000e+00 - val_loss: 10110472.0000\n",
      "Epoch 31/100\n",
      "\u001b[1m12/12\u001b[0m \u001b[32m━━━━━━━━━━━━━━━━━━━━\u001b[0m\u001b[37m\u001b[0m \u001b[1m0s\u001b[0m 4ms/step - accuracy: 0.0000e+00 - loss: 10103730.0000 - val_accuracy: 0.0000e+00 - val_loss: 10110472.0000\n",
      "Epoch 32/100\n",
      "\u001b[1m12/12\u001b[0m \u001b[32m━━━━━━━━━━━━━━━━━━━━\u001b[0m\u001b[37m\u001b[0m \u001b[1m0s\u001b[0m 4ms/step - accuracy: 0.0000e+00 - loss: 10103847.0000 - val_accuracy: 0.0000e+00 - val_loss: 10110473.0000\n",
      "Epoch 33/100\n",
      "\u001b[1m12/12\u001b[0m \u001b[32m━━━━━━━━━━━━━━━━━━━━\u001b[0m\u001b[37m\u001b[0m \u001b[1m0s\u001b[0m 4ms/step - accuracy: 0.0000e+00 - loss: 10103929.0000 - val_accuracy: 0.0000e+00 - val_loss: 10110472.0000\n",
      "Epoch 34/100\n",
      "\u001b[1m12/12\u001b[0m \u001b[32m━━━━━━━━━━━━━━━━━━━━\u001b[0m\u001b[37m\u001b[0m \u001b[1m0s\u001b[0m 4ms/step - accuracy: 0.0000e+00 - loss: 10103631.0000 - val_accuracy: 0.0000e+00 - val_loss: 10110472.0000\n",
      "Epoch 35/100\n",
      "\u001b[1m12/12\u001b[0m \u001b[32m━━━━━━━━━━━━━━━━━━━━\u001b[0m\u001b[37m\u001b[0m \u001b[1m0s\u001b[0m 7ms/step - accuracy: 0.0000e+00 - loss: 10103920.0000 - val_accuracy: 0.0000e+00 - val_loss: 10110473.0000\n",
      "Epoch 36/100\n",
      "\u001b[1m12/12\u001b[0m \u001b[32m━━━━━━━━━━━━━━━━━━━━\u001b[0m\u001b[37m\u001b[0m \u001b[1m0s\u001b[0m 4ms/step - accuracy: 0.0000e+00 - loss: 10103807.0000 - val_accuracy: 0.0000e+00 - val_loss: 10110472.0000\n",
      "Epoch 37/100\n",
      "\u001b[1m12/12\u001b[0m \u001b[32m━━━━━━━━━━━━━━━━━━━━\u001b[0m\u001b[37m\u001b[0m \u001b[1m0s\u001b[0m 4ms/step - accuracy: 0.0000e+00 - loss: 10103717.0000 - val_accuracy: 0.0000e+00 - val_loss: 10110472.0000\n",
      "Epoch 38/100\n",
      "\u001b[1m12/12\u001b[0m \u001b[32m━━━━━━━━━━━━━━━━━━━━\u001b[0m\u001b[37m\u001b[0m \u001b[1m0s\u001b[0m 4ms/step - accuracy: 0.0000e+00 - loss: 10103902.0000 - val_accuracy: 0.0000e+00 - val_loss: 10110472.0000\n",
      "Epoch 39/100\n",
      "\u001b[1m12/12\u001b[0m \u001b[32m━━━━━━━━━━━━━━━━━━━━\u001b[0m\u001b[37m\u001b[0m \u001b[1m0s\u001b[0m 4ms/step - accuracy: 0.0000e+00 - loss: 10103870.0000 - val_accuracy: 0.0000e+00 - val_loss: 10110473.0000\n",
      "Epoch 40/100\n",
      "\u001b[1m12/12\u001b[0m \u001b[32m━━━━━━━━━━━━━━━━━━━━\u001b[0m\u001b[37m\u001b[0m \u001b[1m0s\u001b[0m 4ms/step - accuracy: 0.0000e+00 - loss: 10103942.0000 - val_accuracy: 0.0000e+00 - val_loss: 10110472.0000\n",
      "Epoch 41/100\n",
      "\u001b[1m12/12\u001b[0m \u001b[32m━━━━━━━━━━━━━━━━━━━━\u001b[0m\u001b[37m\u001b[0m \u001b[1m0s\u001b[0m 4ms/step - accuracy: 0.0000e+00 - loss: 10103766.0000 - val_accuracy: 0.0000e+00 - val_loss: 10110472.0000\n",
      "Epoch 42/100\n",
      "\u001b[1m12/12\u001b[0m \u001b[32m━━━━━━━━━━━━━━━━━━━━\u001b[0m\u001b[37m\u001b[0m \u001b[1m0s\u001b[0m 4ms/step - accuracy: 0.0000e+00 - loss: 10103696.0000 - val_accuracy: 0.0000e+00 - val_loss: 10110472.0000\n",
      "Epoch 43/100\n",
      "\u001b[1m12/12\u001b[0m \u001b[32m━━━━━━━━━━━━━━━━━━━━\u001b[0m\u001b[37m\u001b[0m \u001b[1m0s\u001b[0m 4ms/step - accuracy: 0.0000e+00 - loss: 10103873.0000 - val_accuracy: 0.0000e+00 - val_loss: 10110472.0000\n",
      "Epoch 44/100\n",
      "\u001b[1m12/12\u001b[0m \u001b[32m━━━━━━━━━━━━━━━━━━━━\u001b[0m\u001b[37m\u001b[0m \u001b[1m0s\u001b[0m 4ms/step - accuracy: 0.0000e+00 - loss: 10103710.0000 - val_accuracy: 0.0000e+00 - val_loss: 10110472.0000\n",
      "Epoch 45/100\n",
      "\u001b[1m12/12\u001b[0m \u001b[32m━━━━━━━━━━━━━━━━━━━━\u001b[0m\u001b[37m\u001b[0m \u001b[1m0s\u001b[0m 4ms/step - accuracy: 0.0000e+00 - loss: 10103983.0000 - val_accuracy: 0.0000e+00 - val_loss: 10110472.0000\n",
      "Epoch 46/100\n",
      "\u001b[1m12/12\u001b[0m \u001b[32m━━━━━━━━━━━━━━━━━━━━\u001b[0m\u001b[37m\u001b[0m \u001b[1m0s\u001b[0m 4ms/step - accuracy: 0.0000e+00 - loss: 10104101.0000 - val_accuracy: 0.0000e+00 - val_loss: 10110471.0000\n",
      "Epoch 47/100\n",
      "\u001b[1m12/12\u001b[0m \u001b[32m━━━━━━━━━━━━━━━━━━━━\u001b[0m\u001b[37m\u001b[0m \u001b[1m0s\u001b[0m 4ms/step - accuracy: 0.0000e+00 - loss: 10103882.0000 - val_accuracy: 0.0000e+00 - val_loss: 10110472.0000\n",
      "Epoch 48/100\n",
      "\u001b[1m12/12\u001b[0m \u001b[32m━━━━━━━━━━━━━━━━━━━━\u001b[0m\u001b[37m\u001b[0m \u001b[1m0s\u001b[0m 4ms/step - accuracy: 0.0000e+00 - loss: 10103698.0000 - val_accuracy: 0.0000e+00 - val_loss: 10110472.0000\n",
      "Epoch 49/100\n",
      "\u001b[1m12/12\u001b[0m \u001b[32m━━━━━━━━━━━━━━━━━━━━\u001b[0m\u001b[37m\u001b[0m \u001b[1m0s\u001b[0m 4ms/step - accuracy: 0.0000e+00 - loss: 10103625.0000 - val_accuracy: 0.0000e+00 - val_loss: 10110472.0000\n",
      "Epoch 50/100\n",
      "\u001b[1m12/12\u001b[0m \u001b[32m━━━━━━━━━━━━━━━━━━━━\u001b[0m\u001b[37m\u001b[0m \u001b[1m0s\u001b[0m 4ms/step - accuracy: 0.0000e+00 - loss: 10103863.0000 - val_accuracy: 0.0000e+00 - val_loss: 10110471.0000\n",
      "Epoch 51/100\n",
      "\u001b[1m12/12\u001b[0m \u001b[32m━━━━━━━━━━━━━━━━━━━━\u001b[0m\u001b[37m\u001b[0m \u001b[1m0s\u001b[0m 4ms/step - accuracy: 0.0000e+00 - loss: 10103946.0000 - val_accuracy: 0.0000e+00 - val_loss: 10110472.0000\n",
      "Epoch 52/100\n",
      "\u001b[1m12/12\u001b[0m \u001b[32m━━━━━━━━━━━━━━━━━━━━\u001b[0m\u001b[37m\u001b[0m \u001b[1m0s\u001b[0m 4ms/step - accuracy: 0.0000e+00 - loss: 10103703.0000 - val_accuracy: 0.0000e+00 - val_loss: 10110472.0000\n",
      "Epoch 53/100\n",
      "\u001b[1m12/12\u001b[0m \u001b[32m━━━━━━━━━━━━━━━━━━━━\u001b[0m\u001b[37m\u001b[0m \u001b[1m0s\u001b[0m 4ms/step - accuracy: 0.0000e+00 - loss: 10103571.0000 - val_accuracy: 0.0000e+00 - val_loss: 10110471.0000\n",
      "Epoch 54/100\n",
      "\u001b[1m12/12\u001b[0m \u001b[32m━━━━━━━━━━━━━━━━━━━━\u001b[0m\u001b[37m\u001b[0m \u001b[1m0s\u001b[0m 4ms/step - accuracy: 0.0000e+00 - loss: 10103725.0000 - val_accuracy: 0.0000e+00 - val_loss: 10110472.0000\n",
      "Epoch 55/100\n",
      "\u001b[1m12/12\u001b[0m \u001b[32m━━━━━━━━━━━━━━━━━━━━\u001b[0m\u001b[37m\u001b[0m \u001b[1m0s\u001b[0m 4ms/step - accuracy: 0.0000e+00 - loss: 10103554.0000 - val_accuracy: 0.0000e+00 - val_loss: 10110472.0000\n",
      "Epoch 56/100\n",
      "\u001b[1m12/12\u001b[0m \u001b[32m━━━━━━━━━━━━━━━━━━━━\u001b[0m\u001b[37m\u001b[0m \u001b[1m0s\u001b[0m 4ms/step - accuracy: 0.0000e+00 - loss: 10103804.0000 - val_accuracy: 0.0000e+00 - val_loss: 10110472.0000\n",
      "Epoch 57/100\n",
      "\u001b[1m12/12\u001b[0m \u001b[32m━━━━━━━━━━━━━━━━━━━━\u001b[0m\u001b[37m\u001b[0m \u001b[1m0s\u001b[0m 4ms/step - accuracy: 0.0000e+00 - loss: 10103591.0000 - val_accuracy: 0.0000e+00 - val_loss: 10110472.0000\n",
      "Epoch 58/100\n",
      "\u001b[1m12/12\u001b[0m \u001b[32m━━━━━━━━━━━━━━━━━━━━\u001b[0m\u001b[37m\u001b[0m \u001b[1m0s\u001b[0m 4ms/step - accuracy: 0.0000e+00 - loss: 10103736.0000 - val_accuracy: 0.0000e+00 - val_loss: 10110472.0000\n",
      "Epoch 59/100\n",
      "\u001b[1m12/12\u001b[0m \u001b[32m━━━━━━━━━━━━━━━━━━━━\u001b[0m\u001b[37m\u001b[0m \u001b[1m0s\u001b[0m 4ms/step - accuracy: 0.0000e+00 - loss: 10103916.0000 - val_accuracy: 0.0000e+00 - val_loss: 10110472.0000\n",
      "Epoch 60/100\n",
      "\u001b[1m12/12\u001b[0m \u001b[32m━━━━━━━━━━━━━━━━━━━━\u001b[0m\u001b[37m\u001b[0m \u001b[1m0s\u001b[0m 4ms/step - accuracy: 0.0000e+00 - loss: 10103594.0000 - val_accuracy: 0.0000e+00 - val_loss: 10110471.0000\n",
      "Epoch 61/100\n",
      "\u001b[1m12/12\u001b[0m \u001b[32m━━━━━━━━━━━━━━━━━━━━\u001b[0m\u001b[37m\u001b[0m \u001b[1m0s\u001b[0m 4ms/step - accuracy: 0.0000e+00 - loss: 10103911.0000 - val_accuracy: 0.0000e+00 - val_loss: 10110472.0000\n",
      "Epoch 62/100\n",
      "\u001b[1m12/12\u001b[0m \u001b[32m━━━━━━━━━━━━━━━━━━━━\u001b[0m\u001b[37m\u001b[0m \u001b[1m0s\u001b[0m 4ms/step - accuracy: 0.0000e+00 - loss: 10103820.0000 - val_accuracy: 0.0000e+00 - val_loss: 10110472.0000\n",
      "Epoch 63/100\n",
      "\u001b[1m12/12\u001b[0m \u001b[32m━━━━━━━━━━━━━━━━━━━━\u001b[0m\u001b[37m\u001b[0m \u001b[1m0s\u001b[0m 4ms/step - accuracy: 0.0000e+00 - loss: 10103547.0000 - val_accuracy: 0.0000e+00 - val_loss: 10110472.0000\n",
      "Epoch 64/100\n",
      "\u001b[1m12/12\u001b[0m \u001b[32m━━━━━━━━━━━━━━━━━━━━\u001b[0m\u001b[37m\u001b[0m \u001b[1m0s\u001b[0m 4ms/step - accuracy: 0.0000e+00 - loss: 10103748.0000 - val_accuracy: 0.0000e+00 - val_loss: 10110472.0000\n",
      "Epoch 65/100\n",
      "\u001b[1m12/12\u001b[0m \u001b[32m━━━━━━━━━━━━━━━━━━━━\u001b[0m\u001b[37m\u001b[0m \u001b[1m0s\u001b[0m 4ms/step - accuracy: 0.0000e+00 - loss: 10103804.0000 - val_accuracy: 0.0000e+00 - val_loss: 10110472.0000\n",
      "Epoch 66/100\n",
      "\u001b[1m12/12\u001b[0m \u001b[32m━━━━━━━━━━━━━━━━━━━━\u001b[0m\u001b[37m\u001b[0m \u001b[1m0s\u001b[0m 4ms/step - accuracy: 0.0000e+00 - loss: 10103605.0000 - val_accuracy: 0.0000e+00 - val_loss: 10110472.0000\n",
      "Epoch 67/100\n",
      "\u001b[1m12/12\u001b[0m \u001b[32m━━━━━━━━━━━━━━━━━━━━\u001b[0m\u001b[37m\u001b[0m \u001b[1m0s\u001b[0m 4ms/step - accuracy: 0.0000e+00 - loss: 10103671.0000 - val_accuracy: 0.0000e+00 - val_loss: 10110471.0000\n",
      "Epoch 68/100\n",
      "\u001b[1m12/12\u001b[0m \u001b[32m━━━━━━━━━━━━━━━━━━━━\u001b[0m\u001b[37m\u001b[0m \u001b[1m0s\u001b[0m 4ms/step - accuracy: 0.0000e+00 - loss: 10103675.0000 - val_accuracy: 0.0000e+00 - val_loss: 10110472.0000\n",
      "Epoch 69/100\n",
      "\u001b[1m12/12\u001b[0m \u001b[32m━━━━━━━━━━━━━━━━━━━━\u001b[0m\u001b[37m\u001b[0m \u001b[1m0s\u001b[0m 4ms/step - accuracy: 0.0000e+00 - loss: 10103726.0000 - val_accuracy: 0.0000e+00 - val_loss: 10110472.0000\n",
      "Epoch 70/100\n",
      "\u001b[1m12/12\u001b[0m \u001b[32m━━━━━━━━━━━━━━━━━━━━\u001b[0m\u001b[37m\u001b[0m \u001b[1m0s\u001b[0m 4ms/step - accuracy: 0.0000e+00 - loss: 10103726.0000 - val_accuracy: 0.0000e+00 - val_loss: 10110472.0000\n",
      "Epoch 71/100\n",
      "\u001b[1m12/12\u001b[0m \u001b[32m━━━━━━━━━━━━━━━━━━━━\u001b[0m\u001b[37m\u001b[0m \u001b[1m0s\u001b[0m 4ms/step - accuracy: 0.0000e+00 - loss: 10103688.0000 - val_accuracy: 0.0000e+00 - val_loss: 10110471.0000\n",
      "Epoch 72/100\n",
      "\u001b[1m12/12\u001b[0m \u001b[32m━━━━━━━━━━━━━━━━━━━━\u001b[0m\u001b[37m\u001b[0m \u001b[1m0s\u001b[0m 4ms/step - accuracy: 0.0000e+00 - loss: 10103574.0000 - val_accuracy: 0.0000e+00 - val_loss: 10110472.0000\n",
      "Epoch 73/100\n",
      "\u001b[1m12/12\u001b[0m \u001b[32m━━━━━━━━━━━━━━━━━━━━\u001b[0m\u001b[37m\u001b[0m \u001b[1m0s\u001b[0m 4ms/step - accuracy: 0.0000e+00 - loss: 10103819.0000 - val_accuracy: 0.0000e+00 - val_loss: 10110472.0000\n",
      "Epoch 74/100\n",
      "\u001b[1m12/12\u001b[0m \u001b[32m━━━━━━━━━━━━━━━━━━━━\u001b[0m\u001b[37m\u001b[0m \u001b[1m0s\u001b[0m 4ms/step - accuracy: 0.0000e+00 - loss: 10103666.0000 - val_accuracy: 0.0000e+00 - val_loss: 10110471.0000\n",
      "Epoch 75/100\n",
      "\u001b[1m12/12\u001b[0m \u001b[32m━━━━━━━━━━━━━━━━━━━━\u001b[0m\u001b[37m\u001b[0m \u001b[1m0s\u001b[0m 4ms/step - accuracy: 0.0000e+00 - loss: 10103746.0000 - val_accuracy: 0.0000e+00 - val_loss: 10110472.0000\n",
      "Epoch 76/100\n",
      "\u001b[1m12/12\u001b[0m \u001b[32m━━━━━━━━━━━━━━━━━━━━\u001b[0m\u001b[37m\u001b[0m \u001b[1m0s\u001b[0m 4ms/step - accuracy: 0.0000e+00 - loss: 10103941.0000 - val_accuracy: 0.0000e+00 - val_loss: 10110472.0000\n",
      "Epoch 77/100\n",
      "\u001b[1m12/12\u001b[0m \u001b[32m━━━━━━━━━━━━━━━━━━━━\u001b[0m\u001b[37m\u001b[0m \u001b[1m0s\u001b[0m 6ms/step - accuracy: 0.0000e+00 - loss: 10103686.0000 - val_accuracy: 0.0000e+00 - val_loss: 10110472.0000\n",
      "Epoch 78/100\n",
      "\u001b[1m12/12\u001b[0m \u001b[32m━━━━━━━━━━━━━━━━━━━━\u001b[0m\u001b[37m\u001b[0m \u001b[1m0s\u001b[0m 4ms/step - accuracy: 0.0000e+00 - loss: 10103716.0000 - val_accuracy: 0.0000e+00 - val_loss: 10110471.0000\n",
      "Epoch 79/100\n",
      "\u001b[1m12/12\u001b[0m \u001b[32m━━━━━━━━━━━━━━━━━━━━\u001b[0m\u001b[37m\u001b[0m \u001b[1m0s\u001b[0m 4ms/step - accuracy: 0.0000e+00 - loss: 10103858.0000 - val_accuracy: 0.0000e+00 - val_loss: 10110472.0000\n",
      "Epoch 80/100\n",
      "\u001b[1m12/12\u001b[0m \u001b[32m━━━━━━━━━━━━━━━━━━━━\u001b[0m\u001b[37m\u001b[0m \u001b[1m0s\u001b[0m 4ms/step - accuracy: 0.0000e+00 - loss: 10103849.0000 - val_accuracy: 0.0000e+00 - val_loss: 10110472.0000\n",
      "Epoch 81/100\n",
      "\u001b[1m12/12\u001b[0m \u001b[32m━━━━━━━━━━━━━━━━━━━━\u001b[0m\u001b[37m\u001b[0m \u001b[1m0s\u001b[0m 4ms/step - accuracy: 0.0000e+00 - loss: 10103660.0000 - val_accuracy: 0.0000e+00 - val_loss: 10110472.0000\n",
      "Epoch 82/100\n",
      "\u001b[1m12/12\u001b[0m \u001b[32m━━━━━━━━━━━━━━━━━━━━\u001b[0m\u001b[37m\u001b[0m \u001b[1m0s\u001b[0m 4ms/step - accuracy: 0.0000e+00 - loss: 10103926.0000 - val_accuracy: 0.0000e+00 - val_loss: 10110472.0000\n",
      "Epoch 83/100\n",
      "\u001b[1m12/12\u001b[0m \u001b[32m━━━━━━━━━━━━━━━━━━━━\u001b[0m\u001b[37m\u001b[0m \u001b[1m0s\u001b[0m 4ms/step - accuracy: 0.0000e+00 - loss: 10104004.0000 - val_accuracy: 0.0000e+00 - val_loss: 10110472.0000\n",
      "Epoch 84/100\n",
      "\u001b[1m12/12\u001b[0m \u001b[32m━━━━━━━━━━━━━━━━━━━━\u001b[0m\u001b[37m\u001b[0m \u001b[1m0s\u001b[0m 4ms/step - accuracy: 0.0000e+00 - loss: 10103846.0000 - val_accuracy: 0.0000e+00 - val_loss: 10110472.0000\n",
      "Epoch 85/100\n",
      "\u001b[1m12/12\u001b[0m \u001b[32m━━━━━━━━━━━━━━━━━━━━\u001b[0m\u001b[37m\u001b[0m \u001b[1m0s\u001b[0m 4ms/step - accuracy: 0.0000e+00 - loss: 10103868.0000 - val_accuracy: 0.0000e+00 - val_loss: 10110471.0000\n",
      "Epoch 86/100\n",
      "\u001b[1m12/12\u001b[0m \u001b[32m━━━━━━━━━━━━━━━━━━━━\u001b[0m\u001b[37m\u001b[0m \u001b[1m0s\u001b[0m 4ms/step - accuracy: 0.0000e+00 - loss: 10103692.0000 - val_accuracy: 0.0000e+00 - val_loss: 10110472.0000\n",
      "Epoch 87/100\n",
      "\u001b[1m12/12\u001b[0m \u001b[32m━━━━━━━━━━━━━━━━━━━━\u001b[0m\u001b[37m\u001b[0m \u001b[1m0s\u001b[0m 4ms/step - accuracy: 0.0000e+00 - loss: 10103545.0000 - val_accuracy: 0.0000e+00 - val_loss: 10110472.0000\n",
      "Epoch 88/100\n",
      "\u001b[1m12/12\u001b[0m \u001b[32m━━━━━━━━━━━━━━━━━━━━\u001b[0m\u001b[37m\u001b[0m \u001b[1m0s\u001b[0m 4ms/step - accuracy: 0.0000e+00 - loss: 10103621.0000 - val_accuracy: 0.0000e+00 - val_loss: 10110472.0000\n",
      "Epoch 89/100\n",
      "\u001b[1m12/12\u001b[0m \u001b[32m━━━━━━━━━━━━━━━━━━━━\u001b[0m\u001b[37m\u001b[0m \u001b[1m0s\u001b[0m 4ms/step - accuracy: 0.0000e+00 - loss: 10103692.0000 - val_accuracy: 0.0000e+00 - val_loss: 10110471.0000\n",
      "Epoch 90/100\n",
      "\u001b[1m12/12\u001b[0m \u001b[32m━━━━━━━━━━━━━━━━━━━━\u001b[0m\u001b[37m\u001b[0m \u001b[1m0s\u001b[0m 4ms/step - accuracy: 0.0000e+00 - loss: 10103662.0000 - val_accuracy: 0.0000e+00 - val_loss: 10110472.0000\n",
      "Epoch 91/100\n",
      "\u001b[1m12/12\u001b[0m \u001b[32m━━━━━━━━━━━━━━━━━━━━\u001b[0m\u001b[37m\u001b[0m \u001b[1m0s\u001b[0m 4ms/step - accuracy: 0.0000e+00 - loss: 10103569.0000 - val_accuracy: 0.0000e+00 - val_loss: 10110472.0000\n",
      "Epoch 92/100\n",
      "\u001b[1m12/12\u001b[0m \u001b[32m━━━━━━━━━━━━━━━━━━━━\u001b[0m\u001b[37m\u001b[0m \u001b[1m0s\u001b[0m 4ms/step - accuracy: 0.0000e+00 - loss: 10103666.0000 - val_accuracy: 0.0000e+00 - val_loss: 10110472.0000\n",
      "Epoch 93/100\n",
      "\u001b[1m12/12\u001b[0m \u001b[32m━━━━━━━━━━━━━━━━━━━━\u001b[0m\u001b[37m\u001b[0m \u001b[1m0s\u001b[0m 4ms/step - accuracy: 0.0000e+00 - loss: 10103373.0000 - val_accuracy: 0.0000e+00 - val_loss: 10110472.0000\n",
      "Epoch 94/100\n",
      "\u001b[1m12/12\u001b[0m \u001b[32m━━━━━━━━━━━━━━━━━━━━\u001b[0m\u001b[37m\u001b[0m \u001b[1m0s\u001b[0m 4ms/step - accuracy: 0.0000e+00 - loss: 10103943.0000 - val_accuracy: 0.0000e+00 - val_loss: 10110472.0000\n",
      "Epoch 95/100\n",
      "\u001b[1m12/12\u001b[0m \u001b[32m━━━━━━━━━━━━━━━━━━━━\u001b[0m\u001b[37m\u001b[0m \u001b[1m0s\u001b[0m 4ms/step - accuracy: 0.0000e+00 - loss: 10103671.0000 - val_accuracy: 0.0000e+00 - val_loss: 10110472.0000\n",
      "Epoch 96/100\n",
      "\u001b[1m12/12\u001b[0m \u001b[32m━━━━━━━━━━━━━━━━━━━━\u001b[0m\u001b[37m\u001b[0m \u001b[1m0s\u001b[0m 4ms/step - accuracy: 0.0000e+00 - loss: 10103798.0000 - val_accuracy: 0.0000e+00 - val_loss: 10110471.0000\n",
      "Epoch 97/100\n",
      "\u001b[1m12/12\u001b[0m \u001b[32m━━━━━━━━━━━━━━━━━━━━\u001b[0m\u001b[37m\u001b[0m \u001b[1m0s\u001b[0m 4ms/step - accuracy: 0.0000e+00 - loss: 10103641.0000 - val_accuracy: 0.0000e+00 - val_loss: 10110472.0000\n",
      "Epoch 98/100\n",
      "\u001b[1m12/12\u001b[0m \u001b[32m━━━━━━━━━━━━━━━━━━━━\u001b[0m\u001b[37m\u001b[0m \u001b[1m0s\u001b[0m 4ms/step - accuracy: 0.0000e+00 - loss: 10103640.0000 - val_accuracy: 0.0000e+00 - val_loss: 10110472.0000\n",
      "Epoch 99/100\n",
      "\u001b[1m12/12\u001b[0m \u001b[32m━━━━━━━━━━━━━━━━━━━━\u001b[0m\u001b[37m\u001b[0m \u001b[1m0s\u001b[0m 4ms/step - accuracy: 0.0000e+00 - loss: 10103605.0000 - val_accuracy: 0.0000e+00 - val_loss: 10110472.0000\n",
      "Epoch 100/100\n",
      "\u001b[1m12/12\u001b[0m \u001b[32m━━━━━━━━━━━━━━━━━━━━\u001b[0m\u001b[37m\u001b[0m \u001b[1m0s\u001b[0m 4ms/step - accuracy: 0.0000e+00 - loss: 10103691.0000 - val_accuracy: 0.0000e+00 - val_loss: 10110471.0000\n",
      "Epoch 1: Training Accuracy = 0.0000\n",
      "Epoch 2: Training Accuracy = 0.0000\n",
      "Epoch 3: Training Accuracy = 0.0000\n",
      "Epoch 4: Training Accuracy = 0.0000\n",
      "Epoch 5: Training Accuracy = 0.0000\n",
      "Epoch 6: Training Accuracy = 0.0000\n",
      "Epoch 7: Training Accuracy = 0.0000\n",
      "Epoch 8: Training Accuracy = 0.0000\n",
      "Epoch 9: Training Accuracy = 0.0000\n",
      "Epoch 10: Training Accuracy = 0.0000\n",
      "Epoch 11: Training Accuracy = 0.0000\n",
      "Epoch 12: Training Accuracy = 0.0000\n",
      "Epoch 13: Training Accuracy = 0.0000\n",
      "Epoch 14: Training Accuracy = 0.0000\n",
      "Epoch 15: Training Accuracy = 0.0000\n",
      "Epoch 16: Training Accuracy = 0.0000\n",
      "Epoch 17: Training Accuracy = 0.0000\n",
      "Epoch 18: Training Accuracy = 0.0000\n",
      "Epoch 19: Training Accuracy = 0.0000\n",
      "Epoch 20: Training Accuracy = 0.0000\n",
      "Epoch 21: Training Accuracy = 0.0000\n",
      "Epoch 22: Training Accuracy = 0.0000\n",
      "Epoch 23: Training Accuracy = 0.0000\n",
      "Epoch 24: Training Accuracy = 0.0000\n",
      "Epoch 25: Training Accuracy = 0.0000\n",
      "Epoch 26: Training Accuracy = 0.0000\n",
      "Epoch 27: Training Accuracy = 0.0000\n",
      "Epoch 28: Training Accuracy = 0.0000\n",
      "Epoch 29: Training Accuracy = 0.0000\n",
      "Epoch 30: Training Accuracy = 0.0000\n",
      "Epoch 31: Training Accuracy = 0.0000\n",
      "Epoch 32: Training Accuracy = 0.0000\n",
      "Epoch 33: Training Accuracy = 0.0000\n",
      "Epoch 34: Training Accuracy = 0.0000\n",
      "Epoch 35: Training Accuracy = 0.0000\n",
      "Epoch 36: Training Accuracy = 0.0000\n",
      "Epoch 37: Training Accuracy = 0.0000\n",
      "Epoch 38: Training Accuracy = 0.0000\n",
      "Epoch 39: Training Accuracy = 0.0000\n",
      "Epoch 40: Training Accuracy = 0.0000\n",
      "Epoch 41: Training Accuracy = 0.0000\n",
      "Epoch 42: Training Accuracy = 0.0000\n",
      "Epoch 43: Training Accuracy = 0.0000\n",
      "Epoch 44: Training Accuracy = 0.0000\n",
      "Epoch 45: Training Accuracy = 0.0000\n",
      "Epoch 46: Training Accuracy = 0.0000\n",
      "Epoch 47: Training Accuracy = 0.0000\n",
      "Epoch 48: Training Accuracy = 0.0000\n",
      "Epoch 49: Training Accuracy = 0.0000\n",
      "Epoch 50: Training Accuracy = 0.0000\n",
      "Epoch 51: Training Accuracy = 0.0000\n",
      "Epoch 52: Training Accuracy = 0.0000\n",
      "Epoch 53: Training Accuracy = 0.0000\n",
      "Epoch 54: Training Accuracy = 0.0000\n",
      "Epoch 55: Training Accuracy = 0.0000\n",
      "Epoch 56: Training Accuracy = 0.0000\n",
      "Epoch 57: Training Accuracy = 0.0000\n",
      "Epoch 58: Training Accuracy = 0.0000\n",
      "Epoch 59: Training Accuracy = 0.0000\n",
      "Epoch 60: Training Accuracy = 0.0000\n",
      "Epoch 61: Training Accuracy = 0.0000\n",
      "Epoch 62: Training Accuracy = 0.0000\n",
      "Epoch 63: Training Accuracy = 0.0000\n",
      "Epoch 64: Training Accuracy = 0.0000\n",
      "Epoch 65: Training Accuracy = 0.0000\n",
      "Epoch 66: Training Accuracy = 0.0000\n",
      "Epoch 67: Training Accuracy = 0.0000\n",
      "Epoch 68: Training Accuracy = 0.0000\n",
      "Epoch 69: Training Accuracy = 0.0000\n",
      "Epoch 70: Training Accuracy = 0.0000\n",
      "Epoch 71: Training Accuracy = 0.0000\n",
      "Epoch 72: Training Accuracy = 0.0000\n",
      "Epoch 73: Training Accuracy = 0.0000\n",
      "Epoch 74: Training Accuracy = 0.0000\n",
      "Epoch 75: Training Accuracy = 0.0000\n",
      "Epoch 76: Training Accuracy = 0.0000\n",
      "Epoch 77: Training Accuracy = 0.0000\n",
      "Epoch 78: Training Accuracy = 0.0000\n",
      "Epoch 79: Training Accuracy = 0.0000\n",
      "Epoch 80: Training Accuracy = 0.0000\n",
      "Epoch 81: Training Accuracy = 0.0000\n",
      "Epoch 82: Training Accuracy = 0.0000\n",
      "Epoch 83: Training Accuracy = 0.0000\n",
      "Epoch 84: Training Accuracy = 0.0000\n",
      "Epoch 85: Training Accuracy = 0.0000\n",
      "Epoch 86: Training Accuracy = 0.0000\n",
      "Epoch 87: Training Accuracy = 0.0000\n",
      "Epoch 88: Training Accuracy = 0.0000\n",
      "Epoch 89: Training Accuracy = 0.0000\n",
      "Epoch 90: Training Accuracy = 0.0000\n",
      "Epoch 91: Training Accuracy = 0.0000\n",
      "Epoch 92: Training Accuracy = 0.0000\n",
      "Epoch 93: Training Accuracy = 0.0000\n",
      "Epoch 94: Training Accuracy = 0.0000\n",
      "Epoch 95: Training Accuracy = 0.0000\n",
      "Epoch 96: Training Accuracy = 0.0000\n",
      "Epoch 97: Training Accuracy = 0.0000\n",
      "Epoch 98: Training Accuracy = 0.0000\n",
      "Epoch 99: Training Accuracy = 0.0000\n",
      "Epoch 100: Training Accuracy = 0.0000\n"
     ]
    }
   ],
   "source": [
    "history = model.fit(X_train_reshaped, y_train, epochs=100, batch_size=64, validation_split=0.1)\n",
    "\n",
    "train_accuracy = history.history['accuracy']\n",
    "\n",
    "for epoch, accuracy in enumerate(train_accuracy):\n",
    "    print(f\"Epoch {epoch + 1}: Training Accuracy = {accuracy:.4f}\")"
   ]
  },
  {
   "cell_type": "code",
   "execution_count": 296,
   "metadata": {},
   "outputs": [
    {
     "name": "stdout",
     "output_type": "stream",
     "text": [
      "\u001b[1m12/12\u001b[0m \u001b[32m━━━━━━━━━━━━━━━━━━━━\u001b[0m\u001b[37m\u001b[0m \u001b[1m0s\u001b[0m 6ms/step\n"
     ]
    }
   ],
   "source": [
    "X_test_scaled_array = X_test_scaled.to_numpy()\n",
    "X_test_scaled_reshaped = X_test_scaled_array.reshape(X_test_scaled_array.shape[0], 1, X_test_scaled_array.shape[1])\n",
    "\n",
    "predictions = model.predict(X_test_scaled_reshaped)"
   ]
  },
  {
   "cell_type": "code",
   "execution_count": 298,
   "metadata": {},
   "outputs": [
    {
     "name": "stdout",
     "output_type": "stream",
     "text": [
      "MAE: 219.2331650512934, RMSE: 232.0888929947171, R2: -7.7379681155213405\n"
     ]
    }
   ],
   "source": [
    "mae = mean_absolute_error(y_test['PRC'], predictions)\n",
    "rmse = np.sqrt(mean_squared_error(y_test['PRC'], predictions))\n",
    "r2 = r2_score(y_test['PRC'], predictions)\n",
    "\n",
    "print(f'MAE: {mae}, RMSE: {rmse}, R2: {r2}')"
   ]
  }
 ],
 "metadata": {
  "kernelspec": {
   "display_name": ".conda",
   "language": "python",
   "name": "python3"
  },
  "language_info": {
   "codemirror_mode": {
    "name": "ipython",
    "version": 3
   },
   "file_extension": ".py",
   "mimetype": "text/x-python",
   "name": "python",
   "nbconvert_exporter": "python",
   "pygments_lexer": "ipython3",
   "version": "3.11.9"
  }
 },
 "nbformat": 4,
 "nbformat_minor": 2
}
